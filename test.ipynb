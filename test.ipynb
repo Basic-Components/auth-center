{
 "cells": [
  {
   "cell_type": "code",
   "execution_count": 1,
   "metadata": {
    "collapsed": true
   },
   "outputs": [],
   "source": [
    "import requests"
   ]
  },
  {
   "cell_type": "code",
   "execution_count": 5,
   "metadata": {
    "collapsed": true
   },
   "outputs": [],
   "source": [
    "q = requests.post(\"http://localhost:4500/auth/captcha\")"
   ]
  },
  {
   "cell_type": "code",
   "execution_count": 6,
   "metadata": {},
   "outputs": [
    {
     "ename": "JSONDecodeError",
     "evalue": "Expecting value: line 2 column 5 (char 5)",
     "output_type": "error",
     "traceback": [
      "\u001b[0;31m---------------------------------------------------------------------------\u001b[0m",
      "\u001b[0;31mJSONDecodeError\u001b[0m                           Traceback (most recent call last)",
      "\u001b[0;32m<ipython-input-6-b91dfba18bdf>\u001b[0m in \u001b[0;36m<module>\u001b[0;34m()\u001b[0m\n\u001b[0;32m----> 1\u001b[0;31m \u001b[0mq\u001b[0m\u001b[0;34m.\u001b[0m\u001b[0mjson\u001b[0m\u001b[0;34m(\u001b[0m\u001b[0;34m)\u001b[0m\u001b[0;34m\u001b[0m\u001b[0m\n\u001b[0m",
      "\u001b[0;32m~/LIB/CONDA/anaconda/lib/python3.6/site-packages/requests/models.py\u001b[0m in \u001b[0;36mjson\u001b[0;34m(self, **kwargs)\u001b[0m\n\u001b[1;32m    848\u001b[0m                     \u001b[0;31m# used.\u001b[0m\u001b[0;34m\u001b[0m\u001b[0;34m\u001b[0m\u001b[0m\n\u001b[1;32m    849\u001b[0m                     \u001b[0;32mpass\u001b[0m\u001b[0;34m\u001b[0m\u001b[0m\n\u001b[0;32m--> 850\u001b[0;31m         \u001b[0;32mreturn\u001b[0m \u001b[0mcomplexjson\u001b[0m\u001b[0;34m.\u001b[0m\u001b[0mloads\u001b[0m\u001b[0;34m(\u001b[0m\u001b[0mself\u001b[0m\u001b[0;34m.\u001b[0m\u001b[0mtext\u001b[0m\u001b[0;34m,\u001b[0m \u001b[0;34m**\u001b[0m\u001b[0mkwargs\u001b[0m\u001b[0;34m)\u001b[0m\u001b[0;34m\u001b[0m\u001b[0m\n\u001b[0m\u001b[1;32m    851\u001b[0m \u001b[0;34m\u001b[0m\u001b[0m\n\u001b[1;32m    852\u001b[0m     \u001b[0;34m@\u001b[0m\u001b[0mproperty\u001b[0m\u001b[0;34m\u001b[0m\u001b[0m\n",
      "\u001b[0;32m~/LIB/CONDA/anaconda/lib/python3.6/json/__init__.py\u001b[0m in \u001b[0;36mloads\u001b[0;34m(s, encoding, cls, object_hook, parse_float, parse_int, parse_constant, object_pairs_hook, **kw)\u001b[0m\n\u001b[1;32m    352\u001b[0m             \u001b[0mparse_int\u001b[0m \u001b[0;32mis\u001b[0m \u001b[0;32mNone\u001b[0m \u001b[0;32mand\u001b[0m \u001b[0mparse_float\u001b[0m \u001b[0;32mis\u001b[0m \u001b[0;32mNone\u001b[0m \u001b[0;32mand\u001b[0m\u001b[0;34m\u001b[0m\u001b[0m\n\u001b[1;32m    353\u001b[0m             parse_constant is None and object_pairs_hook is None and not kw):\n\u001b[0;32m--> 354\u001b[0;31m         \u001b[0;32mreturn\u001b[0m \u001b[0m_default_decoder\u001b[0m\u001b[0;34m.\u001b[0m\u001b[0mdecode\u001b[0m\u001b[0;34m(\u001b[0m\u001b[0ms\u001b[0m\u001b[0;34m)\u001b[0m\u001b[0;34m\u001b[0m\u001b[0m\n\u001b[0m\u001b[1;32m    355\u001b[0m     \u001b[0;32mif\u001b[0m \u001b[0mcls\u001b[0m \u001b[0;32mis\u001b[0m \u001b[0;32mNone\u001b[0m\u001b[0;34m:\u001b[0m\u001b[0;34m\u001b[0m\u001b[0m\n\u001b[1;32m    356\u001b[0m         \u001b[0mcls\u001b[0m \u001b[0;34m=\u001b[0m \u001b[0mJSONDecoder\u001b[0m\u001b[0;34m\u001b[0m\u001b[0m\n",
      "\u001b[0;32m~/LIB/CONDA/anaconda/lib/python3.6/json/decoder.py\u001b[0m in \u001b[0;36mdecode\u001b[0;34m(self, s, _w)\u001b[0m\n\u001b[1;32m    337\u001b[0m \u001b[0;34m\u001b[0m\u001b[0m\n\u001b[1;32m    338\u001b[0m         \"\"\"\n\u001b[0;32m--> 339\u001b[0;31m         \u001b[0mobj\u001b[0m\u001b[0;34m,\u001b[0m \u001b[0mend\u001b[0m \u001b[0;34m=\u001b[0m \u001b[0mself\u001b[0m\u001b[0;34m.\u001b[0m\u001b[0mraw_decode\u001b[0m\u001b[0;34m(\u001b[0m\u001b[0ms\u001b[0m\u001b[0;34m,\u001b[0m \u001b[0midx\u001b[0m\u001b[0;34m=\u001b[0m\u001b[0m_w\u001b[0m\u001b[0;34m(\u001b[0m\u001b[0ms\u001b[0m\u001b[0;34m,\u001b[0m \u001b[0;36m0\u001b[0m\u001b[0;34m)\u001b[0m\u001b[0;34m.\u001b[0m\u001b[0mend\u001b[0m\u001b[0;34m(\u001b[0m\u001b[0;34m)\u001b[0m\u001b[0;34m)\u001b[0m\u001b[0;34m\u001b[0m\u001b[0m\n\u001b[0m\u001b[1;32m    340\u001b[0m         \u001b[0mend\u001b[0m \u001b[0;34m=\u001b[0m \u001b[0m_w\u001b[0m\u001b[0;34m(\u001b[0m\u001b[0ms\u001b[0m\u001b[0;34m,\u001b[0m \u001b[0mend\u001b[0m\u001b[0;34m)\u001b[0m\u001b[0;34m.\u001b[0m\u001b[0mend\u001b[0m\u001b[0;34m(\u001b[0m\u001b[0;34m)\u001b[0m\u001b[0;34m\u001b[0m\u001b[0m\n\u001b[1;32m    341\u001b[0m         \u001b[0;32mif\u001b[0m \u001b[0mend\u001b[0m \u001b[0;34m!=\u001b[0m \u001b[0mlen\u001b[0m\u001b[0;34m(\u001b[0m\u001b[0ms\u001b[0m\u001b[0;34m)\u001b[0m\u001b[0;34m:\u001b[0m\u001b[0;34m\u001b[0m\u001b[0m\n",
      "\u001b[0;32m~/LIB/CONDA/anaconda/lib/python3.6/json/decoder.py\u001b[0m in \u001b[0;36mraw_decode\u001b[0;34m(self, s, idx)\u001b[0m\n\u001b[1;32m    355\u001b[0m             \u001b[0mobj\u001b[0m\u001b[0;34m,\u001b[0m \u001b[0mend\u001b[0m \u001b[0;34m=\u001b[0m \u001b[0mself\u001b[0m\u001b[0;34m.\u001b[0m\u001b[0mscan_once\u001b[0m\u001b[0;34m(\u001b[0m\u001b[0ms\u001b[0m\u001b[0;34m,\u001b[0m \u001b[0midx\u001b[0m\u001b[0;34m)\u001b[0m\u001b[0;34m\u001b[0m\u001b[0m\n\u001b[1;32m    356\u001b[0m         \u001b[0;32mexcept\u001b[0m \u001b[0mStopIteration\u001b[0m \u001b[0;32mas\u001b[0m \u001b[0merr\u001b[0m\u001b[0;34m:\u001b[0m\u001b[0;34m\u001b[0m\u001b[0m\n\u001b[0;32m--> 357\u001b[0;31m             \u001b[0;32mraise\u001b[0m \u001b[0mJSONDecodeError\u001b[0m\u001b[0;34m(\u001b[0m\u001b[0;34m\"Expecting value\"\u001b[0m\u001b[0;34m,\u001b[0m \u001b[0ms\u001b[0m\u001b[0;34m,\u001b[0m \u001b[0merr\u001b[0m\u001b[0;34m.\u001b[0m\u001b[0mvalue\u001b[0m\u001b[0;34m)\u001b[0m \u001b[0;32mfrom\u001b[0m \u001b[0;32mNone\u001b[0m\u001b[0;34m\u001b[0m\u001b[0m\n\u001b[0m\u001b[1;32m    358\u001b[0m         \u001b[0;32mreturn\u001b[0m \u001b[0mobj\u001b[0m\u001b[0;34m,\u001b[0m \u001b[0mend\u001b[0m\u001b[0;34m\u001b[0m\u001b[0m\n",
      "\u001b[0;31mJSONDecodeError\u001b[0m: Expecting value: line 2 column 5 (char 5)"
     ]
    }
   ],
   "source": [
    "q.json()"
   ]
  },
  {
   "cell_type": "code",
   "execution_count": 82,
   "metadata": {},
   "outputs": [
    {
     "data": {
      "text/html": [
       "<img src=\"data:image/png;base64,iVBORw0KGgoAAAANSUhEUgAAAIwAAAAoCAYAAAAsTRLGAAAE+0lEQVR4nO1aTYgTSRT+ehkwMzAqDig7YswcNJmjeFWYH1iEXPQiu4uHRXBE9yDI4iWeBBlwQD0sg3jxoLB7GpiDg6yXgQHdk+tBsOOAqOAgKqIGHAeFt4dKTZJO/bzqJJ10pz8oulP13qtX1V+/9yqJR0SEADzP84J9KVIAgKciDFs5JVbfwQOAVkjDmiQlVmIQCWG4SInV++gpwnCREqt72Nz4uJGGg5RY7UeiCcNFSiw+fuAIFYuA54mWRBAT3fazF7BJGNNbdvdu7f7IEb7xgQFBsnI5nHO9hpRYdSkJMKelSgXYulXKOUzAjEp79wK3bgGTk3zbcUccUyErJQHA8HBrExWL5vGXL4GpKT3BZErMZtOI1U2wIwxQe5guS9i9G1hbs+uUy8CBA8D6unoOzrs4PAx8/sz3LWmIImI1RBjbhPPzUo4/wevXPJ18HvjyRRBFRa7v38V13z49+SoVvl9JRBTRip2SAODMGf2YTBmdOk0tL4vr6qq4SmIFW1gMDTWv4ejRVr1OHpwIo8PiYuNn3YM7fjz8HM+ehde1wfNqqbAei4v2mip+ZWtrUC7XFLoOHgQePQKOHQMWFqpG6qzoNMPUP52wYbI7MAB8+9bcr5uT68+LF8DYmNlWlGil1nEmjJhQyvHIEtQJi7A2VldF7RPG7tu3wK5d6nFXfzpFeFe0QpiWUtKFC7V7l01TtbEx/nH58mW1DRXm5oD9+2vjrqlk587a/fi4WubaNZ6tRMNcaaubCY8f6/W49jg6Z8+66dWPm1AoCJmlpVqf7/N0JTIZITsywpPvJCIljJhQtNlZokqFt3EmGd8nyuUaH+b9+81y+TxRNtvc/+SJnmwPH6rHdIRxeRFcCBNGvlMIywttYLYZDebjqApfG+QcHz8C27bx5tbVZEGYdF+9Avbs4fsX1zqmLcdqoHEDdK6MjprH2+nH9u3q8Y2N5j5Z1Eq/Ll1Sf7ej8juXE9ebN938vHfPTT4WMIW0+Xl1eLWF8ihCssqH0zd4foUZrx87dUqkV45/3UYYThjfdZtRXXiV/Vu2AF+/8nS4kPrrBGQ0MuMA/MA8PoBxRloy+SZlVlaAQ4fUui6IY1pqW0qqh9yIjQ3gr//UMs/DGv8bAGYw6E03j1XPy089DwQPgAf8eREAUKj2Eapn6l/dn/KnT+J6+LB6/N07sfbz551NJwemkPYPMcN4nojoRyIiekqB8C5vciDyQUSlqvYv2rPwb7Zz8p0S/RToXwNoc7orRET/av01h3HRikV3XYnp6XinpdCEESv+ufFzoKHadA9YXOY25UpNY/UbWyIaDYxdVLj1h73eUGFiwv4gdbVMvx2vwxPGWC2WiBbsO/M7EcEnQk4fOGzFpquObUlv3tiXrOq/etW4VLYfUcGVD6xEHsZwlFCVbpmM+hdoKXv9OnDunN1ecOVDQ+o/eZXLQKGg1lFhcFAcCEZGgPfv7fKdhEvxmwjCuMD1x1KJkycB3wcePNDr98OPkX1HGIkPH4AdO8wyy8v6P6WbjuZJ/taXdaz2NAjvYvdhIwsATEzUKpaVFfFfoJkZ+wPOZt18idO3vpE89CRGKB3ka3T7NnDihFm2WASWlsR9t3eIGwB6Kkr0E7Ek4paWeoowXPQjsTqNRBOGi5RYbuCQJtGE4SIllkBKmDYj6cRKCdMlxJlYNtKkhOkiepFYNsL8D+DzcFTGg44LAAAAAElFTkSuQmCC\">"
      ],
      "text/plain": [
       "<IPython.core.display.HTML object>"
      ]
     },
     "metadata": {},
     "output_type": "display_data"
    }
   ],
   "source": [
    "%%html\n",
    "<img src=\"data:image/png;base64,iVBORw0KGgoAAAANSUhEUgAAAIwAAAAoCAYAAAAsTRLGAAAE+0lEQVR4nO1aTYgTSRT+ehkwMzAqDig7YswcNJmjeFWYH1iEXPQiu4uHRXBE9yDI4iWeBBlwQD0sg3jxoLB7GpiDg6yXgQHdk+tBsOOAqOAgKqIGHAeFt4dKTZJO/bzqJJ10pz8oulP13qtX1V+/9yqJR0SEADzP84J9KVIAgKciDFs5JVbfwQOAVkjDmiQlVmIQCWG4SInV++gpwnCREqt72Nz4uJGGg5RY7UeiCcNFSiw+fuAIFYuA54mWRBAT3fazF7BJGNNbdvdu7f7IEb7xgQFBsnI5nHO9hpRYdSkJMKelSgXYulXKOUzAjEp79wK3bgGTk3zbcUccUyErJQHA8HBrExWL5vGXL4GpKT3BZErMZtOI1U2wIwxQe5guS9i9G1hbs+uUy8CBA8D6unoOzrs4PAx8/sz3LWmIImI1RBjbhPPzUo4/wevXPJ18HvjyRRBFRa7v38V13z49+SoVvl9JRBTRip2SAODMGf2YTBmdOk0tL4vr6qq4SmIFW1gMDTWv4ejRVr1OHpwIo8PiYuNn3YM7fjz8HM+ehde1wfNqqbAei4v2mip+ZWtrUC7XFLoOHgQePQKOHQMWFqpG6qzoNMPUP52wYbI7MAB8+9bcr5uT68+LF8DYmNlWlGil1nEmjJhQyvHIEtQJi7A2VldF7RPG7tu3wK5d6nFXfzpFeFe0QpiWUtKFC7V7l01TtbEx/nH58mW1DRXm5oD9+2vjrqlk587a/fi4WubaNZ6tRMNcaaubCY8f6/W49jg6Z8+66dWPm1AoCJmlpVqf7/N0JTIZITsywpPvJCIljJhQtNlZokqFt3EmGd8nyuUaH+b9+81y+TxRNtvc/+SJnmwPH6rHdIRxeRFcCBNGvlMIywttYLYZDebjqApfG+QcHz8C27bx5tbVZEGYdF+9Avbs4fsX1zqmLcdqoHEDdK6MjprH2+nH9u3q8Y2N5j5Z1Eq/Ll1Sf7ej8juXE9ebN938vHfPTT4WMIW0+Xl1eLWF8ihCssqH0zd4foUZrx87dUqkV45/3UYYThjfdZtRXXiV/Vu2AF+/8nS4kPrrBGQ0MuMA/MA8PoBxRloy+SZlVlaAQ4fUui6IY1pqW0qqh9yIjQ3gr//UMs/DGv8bAGYw6E03j1XPy089DwQPgAf8eREAUKj2Eapn6l/dn/KnT+J6+LB6/N07sfbz551NJwemkPYPMcN4nojoRyIiekqB8C5vciDyQUSlqvYv2rPwb7Zz8p0S/RToXwNoc7orRET/av01h3HRikV3XYnp6XinpdCEESv+ufFzoKHadA9YXOY25UpNY/UbWyIaDYxdVLj1h73eUGFiwv4gdbVMvx2vwxPGWC2WiBbsO/M7EcEnQk4fOGzFpquObUlv3tiXrOq/etW4VLYfUcGVD6xEHsZwlFCVbpmM+hdoKXv9OnDunN1ecOVDQ+o/eZXLQKGg1lFhcFAcCEZGgPfv7fKdhEvxmwjCuMD1x1KJkycB3wcePNDr98OPkX1HGIkPH4AdO8wyy8v6P6WbjuZJ/taXdaz2NAjvYvdhIwsATEzUKpaVFfFfoJkZ+wPOZt18idO3vpE89CRGKB3ka3T7NnDihFm2WASWlsR9t3eIGwB6Kkr0E7Ek4paWeoowXPQjsTqNRBOGi5RYbuCQJtGE4SIllkBKmDYj6cRKCdMlxJlYNtKkhOkiepFYNsL8D+DzcFTGg44LAAAAAElFTkSuQmCC\">"
   ]
  },
  {
   "cell_type": "markdown",
   "metadata": {},
   "source": [
    "# auth\n",
    "\n",
    "## /"
   ]
  },
  {
   "cell_type": "code",
   "execution_count": 67,
   "metadata": {},
   "outputs": [],
   "source": [
    "q = requests.post(\"http://localhost:4500/auth\",json={\"username\":\"admin\",\"password\":\"admin\"})"
   ]
  },
  {
   "cell_type": "code",
   "execution_count": 68,
   "metadata": {},
   "outputs": [
    {
     "data": {
      "text/plain": [
       "{'message': '用户已经有激活的token'}"
      ]
     },
     "execution_count": 68,
     "metadata": {},
     "output_type": "execute_result"
    }
   ],
   "source": [
    "q.json()"
   ]
  },
  {
   "cell_type": "markdown",
   "metadata": {
    "collapsed": true
   },
   "source": [
    "# role"
   ]
  },
  {
   "cell_type": "markdown",
   "metadata": {},
   "source": [
    "## rolelist"
   ]
  },
  {
   "cell_type": "code",
   "execution_count": 43,
   "metadata": {
    "collapsed": true
   },
   "outputs": [],
   "source": [
    "q = requests.get(\"http://localhost:4500/api/role\")"
   ]
  },
  {
   "cell_type": "code",
   "execution_count": 44,
   "metadata": {},
   "outputs": [
    {
     "data": {
      "text/plain": [
       "{'message': '没有验证token'}"
      ]
     },
     "execution_count": 44,
     "metadata": {},
     "output_type": "execute_result"
    }
   ],
   "source": [
    "q.json()"
   ]
  },
  {
   "cell_type": "code",
   "execution_count": 61,
   "metadata": {
    "collapsed": true
   },
   "outputs": [],
   "source": [
    "q = requests.get(\"http://localhost:4500/api/role\",\n",
    "                 headers={\n",
    "                     \"Authorization\":\"eyJfaWQiOiI0NWUwZWM3MS0yOTRkLTRlNmYtYTA5Zi0xOTJjODNjYmU5ZWEiLCJyb2xlcyI6WyJhdXRoLWNlbnRlciIsIm1zZ19yZXZlcnNlX2luZGV4aW5nIl19.DHM9ww.q6pRrKGDUwtOHkXGhiy-mQPRdDA\"})"
   ]
  },
  {
   "cell_type": "code",
   "execution_count": 62,
   "metadata": {
    "scrolled": true
   },
   "outputs": [
    {
     "data": {
      "text/plain": [
       "{'message': {'rolelist': [{'servicename': 'auth-center'},\n",
       "   {'servicename': 'msg_reverse_indexing'}]}}"
      ]
     },
     "execution_count": 62,
     "metadata": {},
     "output_type": "execute_result"
    }
   ],
   "source": [
    "q.json()"
   ]
  },
  {
   "cell_type": "markdown",
   "metadata": {},
   "source": [
    "实际token\n",
    "\n",
    "eyJfaWQiOiI0NWUwZWM3MS0yOTRkLTRlNmYtYTA5Zi0xOTJjODNjYmU5ZWEiLCJyb2xlcyI6WyJhdXRoLWNlbnRlciIsIm1zZ19yZXZlcnNlX2luZGV4aW5nIl19.DHM-Ng.-P_dxMAxivrJuUq92BKF2b1aLYk"
   ]
  },
  {
   "cell_type": "code",
   "execution_count": 81,
   "metadata": {},
   "outputs": [],
   "source": [
    "q = requests.get(\"http://localhost:4500/api/role\",params={\"service_name\":\"auth-center\"},\n",
    "                 headers={\n",
    "                     \"Authorization\":\"eyJfaWQiOiI0NWUwZWM3MS0yOTRkLTRlNmYtYTA5Zi0xOTJjODNjYmU5ZWEiLCJyb2xlcyI6WyJhdXRoLWNlbnRlciIsIm1zZ19yZXZlcnNlX2luZGV4aW5nIl19.DHM-Ng.-P_dxMAxivrJuUq92BKF2b1aLYk\"})"
   ]
  },
  {
   "cell_type": "code",
   "execution_count": 82,
   "metadata": {},
   "outputs": [
    {
     "data": {
      "text/plain": [
       "{'message': True}"
      ]
     },
     "execution_count": 82,
     "metadata": {},
     "output_type": "execute_result"
    }
   ],
   "source": [
    "q.json()"
   ]
  },
  {
   "cell_type": "code",
   "execution_count": 98,
   "metadata": {
    "collapsed": true
   },
   "outputs": [],
   "source": [
    "q = requests.post(\"http://localhost:4500/api/role\",\n",
    "                  json={\"roles\":[{\"name\":\"abc\"}]},\n",
    "                 headers={\n",
    "                     \"Authorization\":\"eyJfaWQiOiI0NWUwZWM3MS0yOTRkLTRlNmYtYTA5Zi0xOTJjODNjYmU5ZWEiLCJyb2xlcyI6WyJhdXRoLWNlbnRlciIsIm1zZ19yZXZlcnNlX2luZGV4aW5nIl19.DHM-Ng.-P_dxMAxivrJuUq92BKF2b1aLYk\"})"
   ]
  },
  {
   "cell_type": "code",
   "execution_count": 99,
   "metadata": {},
   "outputs": [
    {
     "data": {
      "text/plain": [
       "{'error': '\\'\"name\" is not a recognized field.\\'', 'message': '数据库错误'}"
      ]
     },
     "execution_count": 99,
     "metadata": {},
     "output_type": "execute_result"
    }
   ],
   "source": [
    "q.json()"
   ]
  },
  {
   "cell_type": "code",
   "execution_count": 109,
   "metadata": {
    "collapsed": true
   },
   "outputs": [],
   "source": [
    "q = requests.post(\"http://localhost:4500/api/role\",\n",
    "                  json={\"roles\":[{\"service_name\":\"abc\"}]},\n",
    "                 headers={\n",
    "                     \"Authorization\":\"eyJfaWQiOiI0NWUwZWM3MS0yOTRkLTRlNmYtYTA5Zi0xOTJjODNjYmU5ZWEiLCJyb2xlcyI6WyJhdXRoLWNlbnRlciIsIm1zZ19yZXZlcnNlX2luZGV4aW5nIl19.DHM-Ng.-P_dxMAxivrJuUq92BKF2b1aLYk\"})"
   ]
  },
  {
   "cell_type": "code",
   "execution_count": 110,
   "metadata": {},
   "outputs": [
    {
     "data": {
      "text/plain": [
       "{'result': True}"
      ]
     },
     "execution_count": 110,
     "metadata": {},
     "output_type": "execute_result"
    }
   ],
   "source": [
    "q.json()"
   ]
  },
  {
   "cell_type": "code",
   "execution_count": 111,
   "metadata": {
    "collapsed": true
   },
   "outputs": [],
   "source": [
    "q = requests.get(\"http://localhost:4500/api/role\",\n",
    "                 headers={\n",
    "                     \"Authorization\":\"eyJfaWQiOiI0NWUwZWM3MS0yOTRkLTRlNmYtYTA5Zi0xOTJjODNjYmU5ZWEiLCJyb2xlcyI6WyJhdXRoLWNlbnRlciIsIm1zZ19yZXZlcnNlX2luZGV4aW5nIl19.DHM-Ng.-P_dxMAxivrJuUq92BKF2b1aLYk\"})"
   ]
  },
  {
   "cell_type": "code",
   "execution_count": 112,
   "metadata": {},
   "outputs": [
    {
     "data": {
      "text/plain": [
       "{'message': {'rolelist': [{'servicename': 'auth-center'},\n",
       "   {'servicename': 'msg_reverse_indexing'},\n",
       "   {'servicename': 'abc'}]}}"
      ]
     },
     "execution_count": 112,
     "metadata": {},
     "output_type": "execute_result"
    }
   ],
   "source": [
    "q.json()"
   ]
  },
  {
   "cell_type": "code",
   "execution_count": 113,
   "metadata": {
    "collapsed": true
   },
   "outputs": [],
   "source": [
    "q = requests.delete(\"http://localhost:4500/api/role\",\n",
    "                  json={\"service_name\":\"abc\"},\n",
    "                 headers={\n",
    "                     \"Authorization\":\"eyJfaWQiOiI0NWUwZWM3MS0yOTRkLTRlNmYtYTA5Zi0xOTJjODNjYmU5ZWEiLCJyb2xlcyI6WyJhdXRoLWNlbnRlciIsIm1zZ19yZXZlcnNlX2luZGV4aW5nIl19.DHM-Ng.-P_dxMAxivrJuUq92BKF2b1aLYk\"})"
   ]
  },
  {
   "cell_type": "code",
   "execution_count": 114,
   "metadata": {},
   "outputs": [
    {
     "data": {
      "text/plain": [
       "{'result': True}"
      ]
     },
     "execution_count": 114,
     "metadata": {},
     "output_type": "execute_result"
    }
   ],
   "source": [
    "q.json()"
   ]
  },
  {
   "cell_type": "code",
   "execution_count": 115,
   "metadata": {
    "collapsed": true
   },
   "outputs": [],
   "source": [
    "q = requests.get(\"http://localhost:4500/api/roles\",\n",
    "                 headers={\n",
    "                     \"Authorization\":\"eyJfaWQiOiI0NWUwZWM3MS0yOTRkLTRlNmYtYTA5Zi0xOTJjODNjYmU5ZWEiLCJyb2xlcyI6WyJhdXRoLWNlbnRlciIsIm1zZ19yZXZlcnNlX2luZGV4aW5nIl19.DHM-Ng.-P_dxMAxivrJuUq92BKF2b1aLYk\"})"
   ]
  },
  {
   "cell_type": "code",
   "execution_count": 116,
   "metadata": {},
   "outputs": [
    {
     "data": {
      "text/plain": [
       "{'message': {'rolelist': [{'servicename': 'auth-center'},\n",
       "   {'servicename': 'msg_reverse_indexing'}]}}"
      ]
     },
     "execution_count": 116,
     "metadata": {},
     "output_type": "execute_result"
    }
   ],
   "source": [
    "q.json()"
   ]
  },
  {
   "cell_type": "markdown",
   "metadata": {},
   "source": [
    "# user"
   ]
  },
  {
   "cell_type": "code",
   "execution_count": 121,
   "metadata": {
    "collapsed": true
   },
   "outputs": [],
   "source": [
    "q = requests.get(\"http://localhost:4500/api/user\",\n",
    "                 headers={\n",
    "                     \"Authorization\":\"eyJfaWQiOiI0NWUwZWM3MS0yOTRkLTRlNmYtYTA5Zi0xOTJjODNjYmU5ZWEiLCJyb2xlcyI6WyJhdXRoLWNlbnRlciIsIm1zZ19yZXZlcnNlX2luZGV4aW5nIl19.DHM-Ng.-P_dxMAxivrJuUq92BKF2b1aLYk\"})"
   ]
  },
  {
   "cell_type": "code",
   "execution_count": 119,
   "metadata": {},
   "outputs": [
    {
     "data": {
      "text/plain": [
       "<Response [500]>"
      ]
     },
     "execution_count": 119,
     "metadata": {},
     "output_type": "execute_result"
    }
   ],
   "source": [
    "q.json()"
   ]
  },
  {
   "cell_type": "markdown",
   "metadata": {},
   "source": [
    "## user_role"
   ]
  },
  {
   "cell_type": "code",
   "execution_count": null,
   "metadata": {
    "collapsed": true
   },
   "outputs": [],
   "source": [
    "q = requests.get(\"http://localhost:4500/api/user/role/\",\n",
    "                 headers={\n",
    "                     \"Authorization\":\"eyJfaWQiOiI0NWUwZWM3MS0yOTRkLTRlNmYtYTA5Zi0xOTJjODNjYmU5ZWEiLCJyb2xlcyI6WyJhdXRoLWNlbnRlciIsIm1zZ19yZXZlcnNlX2luZGV4aW5nIl19.DHM-Ng.-P_dxMAxivrJuUq92BKF2b1aLYk\"})"
   ]
  }
 ],
 "metadata": {
  "kernelspec": {
   "display_name": "Python 3",
   "language": "python",
   "name": "python3"
  },
  "language_info": {
   "codemirror_mode": {
    "name": "ipython",
    "version": 3
   },
   "file_extension": ".py",
   "mimetype": "text/x-python",
   "name": "python",
   "nbconvert_exporter": "python",
   "pygments_lexer": "ipython3",
   "version": "3.6.0"
  }
 },
 "nbformat": 4,
 "nbformat_minor": 2
}
