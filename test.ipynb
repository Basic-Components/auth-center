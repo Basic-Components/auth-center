{
 "cells": [
  {
   "cell_type": "code",
   "execution_count": 61,
   "metadata": {
    "collapsed": true
   },
   "outputs": [],
   "source": [
    "import requests"
   ]
  },
  {
   "cell_type": "code",
   "execution_count": 65,
   "metadata": {
    "collapsed": false
   },
   "outputs": [],
   "source": [
    "q = requests.post(\"http://localhost:4500/auth\",json={\"username\":\"admin\",\"password\":\"admin\"})"
   ]
  },
  {
   "cell_type": "code",
   "execution_count": 66,
   "metadata": {
    "collapsed": false
   },
   "outputs": [
    {
     "data": {
      "text/plain": [
       "{'message': 'eyJfaWQiOiJmODMwZTg3ZS0wMGRiLTQ2NTYtYmM3MS00OTE4MjNkNzlkZWEiLCJyb2xlcyI6WyJhdXRoLWNlbnRlciIsIm1zZ19yZXZlcnNlX2luZGV4aW5nIl19.DHMByg.vmdvUChUYAh5nV8CXG_r9fUm1w8'}"
      ]
     },
     "execution_count": 66,
     "metadata": {},
     "output_type": "execute_result"
    }
   ],
   "source": [
    "q.json()"
   ]
  },
  {
   "cell_type": "code",
   "execution_count": 80,
   "metadata": {
    "collapsed": true
   },
   "outputs": [],
   "source": [
    "q = requests.post(\"http://localhost:4500/auth/captcha\")"
   ]
  },
  {
   "cell_type": "code",
   "execution_count": 81,
   "metadata": {
    "collapsed": false
   },
   "outputs": [
    {
     "data": {
      "text/plain": [
       "{'message': {'captcha_id': '28039ba6-7e69-4a0c-a863-2ff3ffc5e401',\n",
       "  'content': 'iVBORw0KGgoAAAANSUhEUgAAAIwAAAAoCAYAAAAsTRLGAAAE+0lEQVR4nO1aTYgTSRT+ehkwMzAqDig7YswcNJmjeFWYH1iEXPQiu4uHRXBE9yDI4iWeBBlwQD0sg3jxoLB7GpiDg6yXgQHdk+tBsOOAqOAgKqIGHAeFt4dKTZJO/bzqJJ10pz8oulP13qtX1V+/9yqJR0SEADzP84J9KVIAgKciDFs5JVbfwQOAVkjDmiQlVmIQCWG4SInV++gpwnCREqt72Nz4uJGGg5RY7UeiCcNFSiw+fuAIFYuA54mWRBAT3fazF7BJGNNbdvdu7f7IEb7xgQFBsnI5nHO9hpRYdSkJMKelSgXYulXKOUzAjEp79wK3bgGTk3zbcUccUyErJQHA8HBrExWL5vGXL4GpKT3BZErMZtOI1U2wIwxQe5guS9i9G1hbs+uUy8CBA8D6unoOzrs4PAx8/sz3LWmIImI1RBjbhPPzUo4/wevXPJ18HvjyRRBFRa7v38V13z49+SoVvl9JRBTRip2SAODMGf2YTBmdOk0tL4vr6qq4SmIFW1gMDTWv4ejRVr1OHpwIo8PiYuNn3YM7fjz8HM+ehde1wfNqqbAei4v2mip+ZWtrUC7XFLoOHgQePQKOHQMWFqpG6qzoNMPUP52wYbI7MAB8+9bcr5uT68+LF8DYmNlWlGil1nEmjJhQyvHIEtQJi7A2VldF7RPG7tu3wK5d6nFXfzpFeFe0QpiWUtKFC7V7l01TtbEx/nH58mW1DRXm5oD9+2vjrqlk587a/fi4WubaNZ6tRMNcaaubCY8f6/W49jg6Z8+66dWPm1AoCJmlpVqf7/N0JTIZITsywpPvJCIljJhQtNlZokqFt3EmGd8nyuUaH+b9+81y+TxRNtvc/+SJnmwPH6rHdIRxeRFcCBNGvlMIywttYLYZDebjqApfG+QcHz8C27bx5tbVZEGYdF+9Avbs4fsX1zqmLcdqoHEDdK6MjprH2+nH9u3q8Y2N5j5Z1Eq/Ll1Sf7ej8juXE9ebN938vHfPTT4WMIW0+Xl1eLWF8ihCssqH0zd4foUZrx87dUqkV45/3UYYThjfdZtRXXiV/Vu2AF+/8nS4kPrrBGQ0MuMA/MA8PoBxRloy+SZlVlaAQ4fUui6IY1pqW0qqh9yIjQ3gr//UMs/DGv8bAGYw6E03j1XPy089DwQPgAf8eREAUKj2Eapn6l/dn/KnT+J6+LB6/N07sfbz551NJwemkPYPMcN4nojoRyIiekqB8C5vciDyQUSlqvYv2rPwb7Zz8p0S/RToXwNoc7orRET/av01h3HRikV3XYnp6XinpdCEESv+ufFzoKHadA9YXOY25UpNY/UbWyIaDYxdVLj1h73eUGFiwv4gdbVMvx2vwxPGWC2WiBbsO/M7EcEnQk4fOGzFpquObUlv3tiXrOq/etW4VLYfUcGVD6xEHsZwlFCVbpmM+hdoKXv9OnDunN1ecOVDQ+o/eZXLQKGg1lFhcFAcCEZGgPfv7fKdhEvxmwjCuMD1x1KJkycB3wcePNDr98OPkX1HGIkPH4AdO8wyy8v6P6WbjuZJ/taXdaz2NAjvYvdhIwsATEzUKpaVFfFfoJkZ+wPOZt18idO3vpE89CRGKB3ka3T7NnDihFm2WASWlsR9t3eIGwB6Kkr0E7Ek4paWeoowXPQjsTqNRBOGi5RYbuCQJtGE4SIllkBKmDYj6cRKCdMlxJlYNtKkhOkiepFYNsL8D+DzcFTGg44LAAAAAElFTkSuQmCC'}}"
      ]
     },
     "execution_count": 81,
     "metadata": {},
     "output_type": "execute_result"
    }
   ],
   "source": [
    "q.json()"
   ]
  },
  {
   "cell_type": "code",
   "execution_count": 82,
   "metadata": {
    "collapsed": false
   },
   "outputs": [
    {
     "data": {
      "text/html": [
       "<img src=\"data:image/png;base64,iVBORw0KGgoAAAANSUhEUgAAAIwAAAAoCAYAAAAsTRLGAAAE+0lEQVR4nO1aTYgTSRT+ehkwMzAqDig7YswcNJmjeFWYH1iEXPQiu4uHRXBE9yDI4iWeBBlwQD0sg3jxoLB7GpiDg6yXgQHdk+tBsOOAqOAgKqIGHAeFt4dKTZJO/bzqJJ10pz8oulP13qtX1V+/9yqJR0SEADzP84J9KVIAgKciDFs5JVbfwQOAVkjDmiQlVmIQCWG4SInV++gpwnCREqt72Nz4uJGGg5RY7UeiCcNFSiw+fuAIFYuA54mWRBAT3fazF7BJGNNbdvdu7f7IEb7xgQFBsnI5nHO9hpRYdSkJMKelSgXYulXKOUzAjEp79wK3bgGTk3zbcUccUyErJQHA8HBrExWL5vGXL4GpKT3BZErMZtOI1U2wIwxQe5guS9i9G1hbs+uUy8CBA8D6unoOzrs4PAx8/sz3LWmIImI1RBjbhPPzUo4/wevXPJ18HvjyRRBFRa7v38V13z49+SoVvl9JRBTRip2SAODMGf2YTBmdOk0tL4vr6qq4SmIFW1gMDTWv4ejRVr1OHpwIo8PiYuNn3YM7fjz8HM+ehde1wfNqqbAei4v2mip+ZWtrUC7XFLoOHgQePQKOHQMWFqpG6qzoNMPUP52wYbI7MAB8+9bcr5uT68+LF8DYmNlWlGil1nEmjJhQyvHIEtQJi7A2VldF7RPG7tu3wK5d6nFXfzpFeFe0QpiWUtKFC7V7l01TtbEx/nH58mW1DRXm5oD9+2vjrqlk587a/fi4WubaNZ6tRMNcaaubCY8f6/W49jg6Z8+66dWPm1AoCJmlpVqf7/N0JTIZITsywpPvJCIljJhQtNlZokqFt3EmGd8nyuUaH+b9+81y+TxRNtvc/+SJnmwPH6rHdIRxeRFcCBNGvlMIywttYLYZDebjqApfG+QcHz8C27bx5tbVZEGYdF+9Avbs4fsX1zqmLcdqoHEDdK6MjprH2+nH9u3q8Y2N5j5Z1Eq/Ll1Sf7ej8juXE9ebN938vHfPTT4WMIW0+Xl1eLWF8ihCssqH0zd4foUZrx87dUqkV45/3UYYThjfdZtRXXiV/Vu2AF+/8nS4kPrrBGQ0MuMA/MA8PoBxRloy+SZlVlaAQ4fUui6IY1pqW0qqh9yIjQ3gr//UMs/DGv8bAGYw6E03j1XPy089DwQPgAf8eREAUKj2Eapn6l/dn/KnT+J6+LB6/N07sfbz551NJwemkPYPMcN4nojoRyIiekqB8C5vciDyQUSlqvYv2rPwb7Zz8p0S/RToXwNoc7orRET/av01h3HRikV3XYnp6XinpdCEESv+ufFzoKHadA9YXOY25UpNY/UbWyIaDYxdVLj1h73eUGFiwv4gdbVMvx2vwxPGWC2WiBbsO/M7EcEnQk4fOGzFpquObUlv3tiXrOq/etW4VLYfUcGVD6xEHsZwlFCVbpmM+hdoKXv9OnDunN1ecOVDQ+o/eZXLQKGg1lFhcFAcCEZGgPfv7fKdhEvxmwjCuMD1x1KJkycB3wcePNDr98OPkX1HGIkPH4AdO8wyy8v6P6WbjuZJ/taXdaz2NAjvYvdhIwsATEzUKpaVFfFfoJkZ+wPOZt18idO3vpE89CRGKB3ka3T7NnDihFm2WASWlsR9t3eIGwB6Kkr0E7Ek4paWeoowXPQjsTqNRBOGi5RYbuCQJtGE4SIllkBKmDYj6cRKCdMlxJlYNtKkhOkiepFYNsL8D+DzcFTGg44LAAAAAElFTkSuQmCC\">"
      ],
      "text/plain": [
       "<IPython.core.display.HTML object>"
      ]
     },
     "metadata": {},
     "output_type": "display_data"
    }
   ],
   "source": [
    "%%html\n",
    "<img src=\"data:image/png;base64,iVBORw0KGgoAAAANSUhEUgAAAIwAAAAoCAYAAAAsTRLGAAAE+0lEQVR4nO1aTYgTSRT+ehkwMzAqDig7YswcNJmjeFWYH1iEXPQiu4uHRXBE9yDI4iWeBBlwQD0sg3jxoLB7GpiDg6yXgQHdk+tBsOOAqOAgKqIGHAeFt4dKTZJO/bzqJJ10pz8oulP13qtX1V+/9yqJR0SEADzP84J9KVIAgKciDFs5JVbfwQOAVkjDmiQlVmIQCWG4SInV++gpwnCREqt72Nz4uJGGg5RY7UeiCcNFSiw+fuAIFYuA54mWRBAT3fazF7BJGNNbdvdu7f7IEb7xgQFBsnI5nHO9hpRYdSkJMKelSgXYulXKOUzAjEp79wK3bgGTk3zbcUccUyErJQHA8HBrExWL5vGXL4GpKT3BZErMZtOI1U2wIwxQe5guS9i9G1hbs+uUy8CBA8D6unoOzrs4PAx8/sz3LWmIImI1RBjbhPPzUo4/wevXPJ18HvjyRRBFRa7v38V13z49+SoVvl9JRBTRip2SAODMGf2YTBmdOk0tL4vr6qq4SmIFW1gMDTWv4ejRVr1OHpwIo8PiYuNn3YM7fjz8HM+ehde1wfNqqbAei4v2mip+ZWtrUC7XFLoOHgQePQKOHQMWFqpG6qzoNMPUP52wYbI7MAB8+9bcr5uT68+LF8DYmNlWlGil1nEmjJhQyvHIEtQJi7A2VldF7RPG7tu3wK5d6nFXfzpFeFe0QpiWUtKFC7V7l01TtbEx/nH58mW1DRXm5oD9+2vjrqlk587a/fi4WubaNZ6tRMNcaaubCY8f6/W49jg6Z8+66dWPm1AoCJmlpVqf7/N0JTIZITsywpPvJCIljJhQtNlZokqFt3EmGd8nyuUaH+b9+81y+TxRNtvc/+SJnmwPH6rHdIRxeRFcCBNGvlMIywttYLYZDebjqApfG+QcHz8C27bx5tbVZEGYdF+9Avbs4fsX1zqmLcdqoHEDdK6MjprH2+nH9u3q8Y2N5j5Z1Eq/Ll1Sf7ej8juXE9ebN938vHfPTT4WMIW0+Xl1eLWF8ihCssqH0zd4foUZrx87dUqkV45/3UYYThjfdZtRXXiV/Vu2AF+/8nS4kPrrBGQ0MuMA/MA8PoBxRloy+SZlVlaAQ4fUui6IY1pqW0qqh9yIjQ3gr//UMs/DGv8bAGYw6E03j1XPy089DwQPgAf8eREAUKj2Eapn6l/dn/KnT+J6+LB6/N07sfbz551NJwemkPYPMcN4nojoRyIiekqB8C5vciDyQUSlqvYv2rPwb7Zz8p0S/RToXwNoc7orRET/av01h3HRikV3XYnp6XinpdCEESv+ufFzoKHadA9YXOY25UpNY/UbWyIaDYxdVLj1h73eUGFiwv4gdbVMvx2vwxPGWC2WiBbsO/M7EcEnQk4fOGzFpquObUlv3tiXrOq/etW4VLYfUcGVD6xEHsZwlFCVbpmM+hdoKXv9OnDunN1ecOVDQ+o/eZXLQKGg1lFhcFAcCEZGgPfv7fKdhEvxmwjCuMD1x1KJkycB3wcePNDr98OPkX1HGIkPH4AdO8wyy8v6P6WbjuZJ/taXdaz2NAjvYvdhIwsATEzUKpaVFfFfoJkZ+wPOZt18idO3vpE89CRGKB3ka3T7NnDihFm2WASWlsR9t3eIGwB6Kkr0E7Ek4paWeoowXPQjsTqNRBOGi5RYbuCQJtGE4SIllkBKmDYj6cRKCdMlxJlYNtKkhOkiepFYNsL8D+DzcFTGg44LAAAAAElFTkSuQmCC\">"
   ]
  },
  {
   "cell_type": "code",
   "execution_count": null,
   "metadata": {
    "collapsed": true
   },
   "outputs": [],
   "source": []
  }
 ],
 "metadata": {
  "kernelspec": {
   "display_name": "Python 3",
   "language": "python",
   "name": "python3"
  },
  "language_info": {
   "codemirror_mode": {
    "name": "ipython",
    "version": 3
   },
   "file_extension": ".py",
   "mimetype": "text/x-python",
   "name": "python",
   "nbconvert_exporter": "python",
   "pygments_lexer": "ipython3",
   "version": "3.6.0"
  }
 },
 "nbformat": 4,
 "nbformat_minor": 2
}
