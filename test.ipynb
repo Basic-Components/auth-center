{
 "cells": [
  {
   "cell_type": "code",
   "execution_count": 1,
   "metadata": {
    "collapsed": true
   },
   "outputs": [],
   "source": [
    "import requests"
   ]
  },
  {
   "cell_type": "markdown",
   "metadata": {},
   "source": [
    "## signup"
   ]
  },
  {
   "cell_type": "code",
   "execution_count": 20,
   "metadata": {
    "collapsed": true
   },
   "outputs": [],
   "source": [
    "q = requests.post(\"http://localhost:4500/captcha\",json={\"type\":\"signup\"})"
   ]
  },
  {
   "cell_type": "code",
   "execution_count": 21,
   "metadata": {
    "collapsed": false,
    "scrolled": true
   },
   "outputs": [],
   "source": [
    "x = q.json()\n",
    "captcha_id = x[\"message\"]['captcha_id']\n",
    "content = x[\"message\"]['content']"
   ]
  },
  {
   "cell_type": "code",
   "execution_count": 22,
   "metadata": {
    "collapsed": false,
    "scrolled": true
   },
   "outputs": [
    {
     "data": {
      "text/plain": [
       "'iVBORw0KGgoAAAANSUhEUgAAAIwAAAAoCAYAAAAsTRLGAAAEjUlEQVR4nO2az0tVQRTHvzdq0a7ARRjhD8RNuSlsY+qiX5IILkTaVbQJWtTClYL+AQq6FgwMKrIWurKSB4ItBLGglKgoKDMXrhLBhci0GG/31/w4c99998drPjDce2fOOXPevd83M3fecxhjDCEcx3HCdRYLADgiwZCdrbD+OxwAKEc0pE6ssKqGVARDxQor/+RKMFSssLLj340vmmgoWGElT1ULhooVFh0rGAOssHyCAaxokqKahWUFkyFFFJYVTAHIk7COmDpsbAAnTgANDcDycgUyskRgRNLIJaJcVcdLS0BHhzyYHZ/yT7mjldEI4xfL9jZw/nw4GV5EvHvntftLqWSasiVLjKckgI8kNTXA6io/d4tLWDRzc8CFC+JYV67IReZy+7YnsP7+OBlbkiIiGNWQ5YpCZiESDwDMznrn8/NykX36FI3pOMD0tHf94kWwf9WoZolS7lpHeKtVQcMPh9K930dm79qE28O+a2tAS4t3LfNrbwfevhX31dgIfPsW7Yd8K285wHRxF2zlrGOMpyTGgNFRf+deef9e7yvj4MCL57K4GPU9d46fP3umHllkYgGA79/FvrrbeOoM0AYAjwHALr4CUF7jOjr8k0uw+Pnwgdc1N6vjXb7M7c6e5dc7O+J4wVdJXurrvbqeHq/+1y+5TzgutS8A7B7A0Cu3/fpV3pYHMhFMMAG1aHQPQ2ZH8Yvbn6nfpUu8re3QkCIuXf9jY2qbShFXF4oFrn4dI7N48wa4fj1oo/ORxab4UWNT/FSxAm2OAwdMa6vKK27eSRB3HRPrtfrmTbdTcfu1a8D4OD9//pwfe3vVPmF2d/mxtZUfnzyR27a38+Pnz/q4T5/yHO7eBY4f53UfP3rtujdBAPgDgGuFG716pe7z4kV1++/f6vbCoBrStra8YbdUirZ3dsqnF1Xkq1eTm5bCfaoKJZ5bd+CrwEO1/+oqP375Qs85LVIVDGOMvXypfxAbG+Ek1TfKbVtY8OoGB+kLUllf/jI+rvbTxQtUEGxN+kiT1AXjcuOG+MEMD8sSjZbTp2nfeJ3QdHVhTp6kxxQLZohhgp+ur4ttV1aivq9fV6FgTEQTL2H6FBG2V8URtclYXJTb/PzJ6+/fl8QaHpKOMrLrvj56bmlQKMH4KZUYa2pibGpKbdfVJReYTkxhpqbMRi6hna+CmovsOgsKKxhTamu9G+5uklGmM9NRzfU/dixZwQwdDk4jI0YfO3FM9aB9rc7Tv738bG56j7qpidft7fFjQ0PQ1rUT4W+TfdKZGWB/X5HMoaMujr+9u5ufZ/33DlPRkMQQR4lZUc5mGGXTTtge+uVSt2nnb79zB3j0yDzXJDEZFKxgkoj94wdQVxexk+VB2QVOExPBkHZ6HQnxU6wc9fX8SNn1NUU6tfnE4tq5TE6K47gU7X/RqTz0tEeoLH+jMcFxgAcPgImJrDOhjzJHK50IQE8mKWENDABjY0lEqix5F7SIXE4rOoq0pioK1C91IQVDxQrLDIpoqlowVKywOFYwCVPtwrKCyYgiC0snGiuYDMmjsHSC+QtzG0z3ePLxRAAAAABJRU5ErkJggg=='"
      ]
     },
     "execution_count": 22,
     "metadata": {},
     "output_type": "execute_result"
    }
   ],
   "source": [
    "content"
   ]
  },
  {
   "cell_type": "code",
   "execution_count": 23,
   "metadata": {
    "collapsed": false
   },
   "outputs": [],
   "source": [
    "from IPython.display import HTML"
   ]
  },
  {
   "cell_type": "code",
   "execution_count": 24,
   "metadata": {
    "collapsed": false
   },
   "outputs": [
    {
     "data": {
      "text/html": [
       "\n",
       "<img src=\"data:image/png;base64,iVBORw0KGgoAAAANSUhEUgAAAIwAAAAoCAYAAAAsTRLGAAAEjUlEQVR4nO2az0tVQRTHvzdq0a7ARRjhD8RNuSlsY+qiX5IILkTaVbQJWtTClYL+AQq6FgwMKrIWurKSB4ItBLGglKgoKDMXrhLBhci0GG/31/w4c99998drPjDce2fOOXPevd83M3fecxhjDCEcx3HCdRYLADgiwZCdrbD+OxwAKEc0pE6ssKqGVARDxQor/+RKMFSssLLj340vmmgoWGElT1ULhooVFh0rGAOssHyCAaxokqKahWUFkyFFFJYVTAHIk7COmDpsbAAnTgANDcDycgUyskRgRNLIJaJcVcdLS0BHhzyYHZ/yT7mjldEI4xfL9jZw/nw4GV5EvHvntftLqWSasiVLjKckgI8kNTXA6io/d4tLWDRzc8CFC+JYV67IReZy+7YnsP7+OBlbkiIiGNWQ5YpCZiESDwDMznrn8/NykX36FI3pOMD0tHf94kWwf9WoZolS7lpHeKtVQcMPh9K930dm79qE28O+a2tAS4t3LfNrbwfevhX31dgIfPsW7Yd8K285wHRxF2zlrGOMpyTGgNFRf+deef9e7yvj4MCL57K4GPU9d46fP3umHllkYgGA79/FvrrbeOoM0AYAjwHALr4CUF7jOjr8k0uw+Pnwgdc1N6vjXb7M7c6e5dc7O+J4wVdJXurrvbqeHq/+1y+5TzgutS8A7B7A0Cu3/fpV3pYHMhFMMAG1aHQPQ2ZH8Yvbn6nfpUu8re3QkCIuXf9jY2qbShFXF4oFrn4dI7N48wa4fj1oo/ORxab4UWNT/FSxAm2OAwdMa6vKK27eSRB3HRPrtfrmTbdTcfu1a8D4OD9//pwfe3vVPmF2d/mxtZUfnzyR27a38+Pnz/q4T5/yHO7eBY4f53UfP3rtujdBAPgDgGuFG716pe7z4kV1++/f6vbCoBrStra8YbdUirZ3dsqnF1Xkq1eTm5bCfaoKJZ5bd+CrwEO1/+oqP375Qs85LVIVDGOMvXypfxAbG+Ek1TfKbVtY8OoGB+kLUllf/jI+rvbTxQtUEGxN+kiT1AXjcuOG+MEMD8sSjZbTp2nfeJ3QdHVhTp6kxxQLZohhgp+ur4ttV1aivq9fV6FgTEQTL2H6FBG2V8URtclYXJTb/PzJ6+/fl8QaHpKOMrLrvj56bmlQKMH4KZUYa2pibGpKbdfVJReYTkxhpqbMRi6hna+CmovsOgsKKxhTamu9G+5uklGmM9NRzfU/dixZwQwdDk4jI0YfO3FM9aB9rc7Tv738bG56j7qpidft7fFjQ0PQ1rUT4W+TfdKZGWB/X5HMoaMujr+9u5ufZ/33DlPRkMQQR4lZUc5mGGXTTtge+uVSt2nnb79zB3j0yDzXJDEZFKxgkoj94wdQVxexk+VB2QVOExPBkHZ6HQnxU6wc9fX8SNn1NUU6tfnE4tq5TE6K47gU7X/RqTz0tEeoLH+jMcFxgAcPgImJrDOhjzJHK50IQE8mKWENDABjY0lEqix5F7SIXE4rOoq0pioK1C91IQVDxQrLDIpoqlowVKywOFYwCVPtwrKCyYgiC0snGiuYDMmjsHSC+QtzG0z3ePLxRAAAAABJRU5ErkJggg==\">"
      ],
      "text/plain": [
       "<IPython.core.display.HTML object>"
      ]
     },
     "execution_count": 24,
     "metadata": {},
     "output_type": "execute_result"
    }
   ],
   "source": [
    "HTML(f\"\"\"\n",
    "<img src=\"data:image/png;base64,{content}\">\"\"\")"
   ]
  },
  {
   "cell_type": "code",
   "execution_count": 25,
   "metadata": {
    "collapsed": true
   },
   "outputs": [],
   "source": [
    "q = requests.post(\"http://localhost:4500/auth/signup\",\n",
    "                  json={\"username\":\"hsz\",\n",
    "                        \"password\":\"hsz\",\n",
    "                        \"main_email\":\"hsz1273327@gmail.com\",\n",
    "                        \"captcha_id\":captcha_id,\n",
    "                        \"captcha_code\":\"soqavw\"\n",
    "                       }\n",
    "                 )"
   ]
  },
  {
   "cell_type": "code",
   "execution_count": 26,
   "metadata": {
    "collapsed": false
   },
   "outputs": [
    {
     "data": {
      "text/plain": [
       "{'result': True}"
      ]
     },
     "execution_count": 26,
     "metadata": {},
     "output_type": "execute_result"
    }
   ],
   "source": [
    "q.json()"
   ]
  },
  {
   "cell_type": "code",
   "execution_count": 47,
   "metadata": {
    "collapsed": true
   },
   "outputs": [],
   "source": [
    "q = requests.post(\"http://localhost:4500/auth/signup/ajax/username\",\n",
    "                  json={\"username\":\"hsz\"}\n",
    "                 )"
   ]
  },
  {
   "cell_type": "code",
   "execution_count": 48,
   "metadata": {
    "collapsed": false
   },
   "outputs": [
    {
     "data": {
      "text/plain": [
       "{'message': '用户已存在', 'result': False}"
      ]
     },
     "execution_count": 48,
     "metadata": {},
     "output_type": "execute_result"
    }
   ],
   "source": [
    "q.json()"
   ]
  },
  {
   "cell_type": "code",
   "execution_count": 49,
   "metadata": {
    "collapsed": true
   },
   "outputs": [],
   "source": [
    "q = requests.post(\"http://localhost:4500/auth/signup/ajax/main_email\",\n",
    "                  json={\"main_email\":\"hsz@123.com\"}\n",
    "                 )"
   ]
  },
  {
   "cell_type": "code",
   "execution_count": 50,
   "metadata": {
    "collapsed": false
   },
   "outputs": [
    {
     "data": {
      "text/plain": [
       "{'message': 'email可用', 'result': True}"
      ]
     },
     "execution_count": 50,
     "metadata": {},
     "output_type": "execute_result"
    }
   ],
   "source": [
    "q.json()"
   ]
  },
  {
   "cell_type": "markdown",
   "metadata": {},
   "source": [
    "# auth\n",
    "\n",
    "## /"
   ]
  },
  {
   "cell_type": "code",
   "execution_count": 51,
   "metadata": {
    "collapsed": true
   },
   "outputs": [],
   "source": [
    "q = requests.post(\"http://localhost:4500/auth\",json={\"username\":\"admin\",\"password\":\"admin\"})"
   ]
  },
  {
   "cell_type": "code",
   "execution_count": 52,
   "metadata": {
    "collapsed": false,
    "scrolled": true
   },
   "outputs": [
    {
     "data": {
      "text/plain": [
       "'eyJfaWQiOiJmNzhmYTU5Ny1jMTQwLTRjNmYtOGE2NC0xYjMzMmZmNmQwOWMiLCJyb2xlcyI6WyJhdXRoLWNlbnRlciIsIm1zZ19yZXZlcnNlX2luZGV4aW5nIl19.DHU-FQ.CyyySxDe7Holb5MuJ7Q32J5I-hw'"
      ]
     },
     "execution_count": 52,
     "metadata": {},
     "output_type": "execute_result"
    }
   ],
   "source": [
    "admin_token = q.json()[\"message\"]\n",
    "admin_token"
   ]
  },
  {
   "cell_type": "code",
   "execution_count": 60,
   "metadata": {
    "collapsed": true
   },
   "outputs": [],
   "source": [
    "q = requests.post(\"http://localhost:4500/auth\",json={\"username\":\"hsz\",\"password\":\"hsz\"})"
   ]
  },
  {
   "cell_type": "code",
   "execution_count": 61,
   "metadata": {
    "collapsed": false
   },
   "outputs": [
    {
     "data": {
      "text/plain": [
       "'eyJfaWQiOiJjMDA0MWZmNC00ZjZmLTQzOTMtYjhjNC0wNGYyZGM4OTc4OWQiLCJyb2xlcyI6W119.DHU-Fg.PFtQj-OvWJOsSGr0HIHk3MJw220'"
      ]
     },
     "execution_count": 61,
     "metadata": {},
     "output_type": "execute_result"
    }
   ],
   "source": [
    "hsz_token = q.json()[\"message\"]\n",
    "hsz_token"
   ]
  },
  {
   "cell_type": "markdown",
   "metadata": {
    "collapsed": true
   },
   "source": [
    "# api-role"
   ]
  },
  {
   "cell_type": "markdown",
   "metadata": {},
   "source": [
    "## rolelist"
   ]
  },
  {
   "cell_type": "markdown",
   "metadata": {},
   "source": [
    "### get with service_name"
   ]
  },
  {
   "cell_type": "code",
   "execution_count": 62,
   "metadata": {
    "collapsed": true
   },
   "outputs": [],
   "source": [
    "q = requests.get(\"http://localhost:4500/api/role\",params={\"service_name\":\"auth-center\"},\n",
    "                 headers={\n",
    "                     \"Authorization\":admin_token})"
   ]
  },
  {
   "cell_type": "code",
   "execution_count": 63,
   "metadata": {
    "collapsed": false
   },
   "outputs": [
    {
     "data": {
      "text/plain": [
       "{'message': True}"
      ]
     },
     "execution_count": 63,
     "metadata": {},
     "output_type": "execute_result"
    }
   ],
   "source": [
    "q.json()"
   ]
  },
  {
   "cell_type": "markdown",
   "metadata": {},
   "source": [
    "### get "
   ]
  },
  {
   "cell_type": "code",
   "execution_count": 64,
   "metadata": {
    "collapsed": true
   },
   "outputs": [],
   "source": [
    "q = requests.get(\"http://localhost:4500/api/role\",\n",
    "                 headers={\n",
    "                     \"Authorization\":admin_token})"
   ]
  },
  {
   "cell_type": "code",
   "execution_count": 65,
   "metadata": {
    "collapsed": false
   },
   "outputs": [
    {
     "data": {
      "text/plain": [
       "{'message': {'rolelist': [{'servicename': 'auth-center'},\n",
       "   {'servicename': 'msg_reverse_indexing'}]}}"
      ]
     },
     "execution_count": 65,
     "metadata": {},
     "output_type": "execute_result"
    }
   ],
   "source": [
    "q.json()"
   ]
  },
  {
   "cell_type": "markdown",
   "metadata": {},
   "source": [
    "### post\n",
    "\n",
    "字段错误"
   ]
  },
  {
   "cell_type": "code",
   "execution_count": 66,
   "metadata": {
    "collapsed": true
   },
   "outputs": [],
   "source": [
    "q = requests.post(\"http://localhost:4500/api/role\",\n",
    "                  json={\"roles\":[{\"name\":\"abc\"}]},\n",
    "                 headers={\n",
    "                     \"Authorization\":admin_token})"
   ]
  },
  {
   "cell_type": "code",
   "execution_count": 67,
   "metadata": {
    "collapsed": false
   },
   "outputs": [
    {
     "data": {
      "text/plain": [
       "{'error': '\\'\"name\" is not a recognized field.\\'', 'message': '数据库错误'}"
      ]
     },
     "execution_count": 67,
     "metadata": {},
     "output_type": "execute_result"
    }
   ],
   "source": [
    "q.json()"
   ]
  },
  {
   "cell_type": "markdown",
   "metadata": {},
   "source": [
    "正确"
   ]
  },
  {
   "cell_type": "code",
   "execution_count": 68,
   "metadata": {
    "collapsed": true
   },
   "outputs": [],
   "source": [
    "q = requests.post(\"http://localhost:4500/api/role\",\n",
    "                  json={\"roles\":[{\"service_name\":\"abc\"}]},\n",
    "                 headers={\n",
    "                     \"Authorization\":admin_token})"
   ]
  },
  {
   "cell_type": "code",
   "execution_count": 69,
   "metadata": {
    "collapsed": false
   },
   "outputs": [
    {
     "data": {
      "text/plain": [
       "{'result': True}"
      ]
     },
     "execution_count": 69,
     "metadata": {},
     "output_type": "execute_result"
    }
   ],
   "source": [
    "q.json()"
   ]
  },
  {
   "cell_type": "code",
   "execution_count": 70,
   "metadata": {
    "collapsed": true
   },
   "outputs": [],
   "source": [
    "q = requests.get(\"http://localhost:4500/api/role\",\n",
    "                 headers={\n",
    "                     \"Authorization\":admin_token})"
   ]
  },
  {
   "cell_type": "code",
   "execution_count": 71,
   "metadata": {
    "collapsed": false
   },
   "outputs": [
    {
     "data": {
      "text/plain": [
       "{'message': {'rolelist': [{'servicename': 'auth-center'},\n",
       "   {'servicename': 'msg_reverse_indexing'},\n",
       "   {'servicename': 'abc'}]}}"
      ]
     },
     "execution_count": 71,
     "metadata": {},
     "output_type": "execute_result"
    }
   ],
   "source": [
    "q.json()"
   ]
  },
  {
   "cell_type": "markdown",
   "metadata": {},
   "source": [
    "### delete"
   ]
  },
  {
   "cell_type": "code",
   "execution_count": 72,
   "metadata": {
    "collapsed": true
   },
   "outputs": [],
   "source": [
    "q = requests.delete(\"http://localhost:4500/api/role\",\n",
    "                  json={\"service_name\":\"abc\"},\n",
    "                 headers={\n",
    "                     \"Authorization\":admin_token})"
   ]
  },
  {
   "cell_type": "code",
   "execution_count": 73,
   "metadata": {
    "collapsed": false
   },
   "outputs": [
    {
     "data": {
      "text/plain": [
       "{'result': True}"
      ]
     },
     "execution_count": 73,
     "metadata": {},
     "output_type": "execute_result"
    }
   ],
   "source": [
    "q.json()"
   ]
  },
  {
   "cell_type": "code",
   "execution_count": 74,
   "metadata": {
    "collapsed": true
   },
   "outputs": [],
   "source": [
    "q = requests.get(\"http://localhost:4500/api/role\",\n",
    "                 headers={\n",
    "                     \"Authorization\":admin_token})"
   ]
  },
  {
   "cell_type": "code",
   "execution_count": 75,
   "metadata": {
    "collapsed": false
   },
   "outputs": [
    {
     "data": {
      "text/plain": [
       "{'message': {'rolelist': [{'servicename': 'auth-center'},\n",
       "   {'servicename': 'msg_reverse_indexing'}]}}"
      ]
     },
     "execution_count": 75,
     "metadata": {},
     "output_type": "execute_result"
    }
   ],
   "source": [
    "q.json()"
   ]
  },
  {
   "cell_type": "markdown",
   "metadata": {},
   "source": [
    "# api-user\n",
    "\n",
    "### get"
   ]
  },
  {
   "cell_type": "code",
   "execution_count": 76,
   "metadata": {
    "collapsed": true
   },
   "outputs": [],
   "source": [
    "q = requests.get(\"http://localhost:4500/api/user\",\n",
    "                 headers={\n",
    "                     \"Authorization\":admin_token})"
   ]
  },
  {
   "cell_type": "code",
   "execution_count": 77,
   "metadata": {
    "collapsed": false
   },
   "outputs": [
    {
     "data": {
      "text/plain": [
       "{'userlist': [{'_id': 'c0041ff4-4f6f-4393-b8c4-04f2dc89789d',\n",
       "   'main_email': 'hsz1273327@gmail.com',\n",
       "   'roles': [],\n",
       "   'username': 'hsz'},\n",
       "  {'_id': 'f78fa597-c140-4c6f-8a64-1b332ff6d09c',\n",
       "   'main_email': 'huangsizhe@rongshutong.com',\n",
       "   'roles': ['auth-center', 'msg_reverse_indexing'],\n",
       "   'username': 'admin'}]}"
      ]
     },
     "execution_count": 77,
     "metadata": {},
     "output_type": "execute_result"
    }
   ],
   "source": [
    "q.json()"
   ]
  },
  {
   "cell_type": "markdown",
   "metadata": {},
   "source": [
    "### post"
   ]
  },
  {
   "cell_type": "code",
   "execution_count": 78,
   "metadata": {
    "collapsed": true
   },
   "outputs": [],
   "source": [
    "q = requests.post(\"http://localhost:4500/api/user\",\n",
    "                  json={'users':[\n",
    "                      {\"username\":\"a\",\n",
    "                       \"password\":\"a\",\n",
    "                        \"main_email\":\"a@gmail.com\"}\n",
    "                  ]},\n",
    "                 headers={\n",
    "                     \"Authorization\":admin_token})"
   ]
  },
  {
   "cell_type": "code",
   "execution_count": 79,
   "metadata": {
    "collapsed": false,
    "scrolled": true
   },
   "outputs": [
    {
     "data": {
      "text/plain": [
       "{'result': True}"
      ]
     },
     "execution_count": 79,
     "metadata": {},
     "output_type": "execute_result"
    }
   ],
   "source": [
    "q.json()"
   ]
  },
  {
   "cell_type": "code",
   "execution_count": 83,
   "metadata": {
    "collapsed": true
   },
   "outputs": [],
   "source": [
    "q = requests.get(\"http://localhost:4500/api/user\",\n",
    "                 headers={\n",
    "                     \"Authorization\":admin_token})"
   ]
  },
  {
   "cell_type": "code",
   "execution_count": 84,
   "metadata": {
    "collapsed": false
   },
   "outputs": [
    {
     "data": {
      "text/plain": [
       "{'userlist': [{'_id': '3ba95916-3241-423f-9b85-38b8206af64e',\n",
       "   'main_email': 'a@gmail.com',\n",
       "   'roles': [],\n",
       "   'username': 'a'},\n",
       "  {'_id': 'c0041ff4-4f6f-4393-b8c4-04f2dc89789d',\n",
       "   'main_email': 'hsz1273327@gmail.com',\n",
       "   'roles': [],\n",
       "   'username': 'hsz'},\n",
       "  {'_id': 'f78fa597-c140-4c6f-8a64-1b332ff6d09c',\n",
       "   'main_email': 'huangsizhe@rongshutong.com',\n",
       "   'roles': ['auth-center', 'msg_reverse_indexing'],\n",
       "   'username': 'admin'}]}"
      ]
     },
     "execution_count": 84,
     "metadata": {},
     "output_type": "execute_result"
    }
   ],
   "source": [
    "userlist = q.json()['userlist']"
   ]
  },
  {
   "cell_type": "code",
   "execution_count": 90,
   "metadata": {
    "collapsed": true
   },
   "outputs": [],
   "source": [
    "admin = [i for i in userlist if i[\"username\"]==\"admin\"][0]"
   ]
  },
  {
   "cell_type": "code",
   "execution_count": 91,
   "metadata": {
    "collapsed": true
   },
   "outputs": [],
   "source": [
    "hsz = [i for i in userlist if i[\"username\"]==\"hsz\"][0]"
   ]
  },
  {
   "cell_type": "code",
   "execution_count": 92,
   "metadata": {
    "collapsed": true
   },
   "outputs": [],
   "source": [
    "a = [i for i in userlist if i[\"username\"]==\"a\"][0]"
   ]
  },
  {
   "cell_type": "markdown",
   "metadata": {},
   "source": [
    "### delete"
   ]
  },
  {
   "cell_type": "code",
   "execution_count": 93,
   "metadata": {
    "collapsed": true
   },
   "outputs": [],
   "source": [
    "q = requests.delete(\"http://localhost:4500/api/user\",\n",
    "                  json={'users':[a[\"_id\"]]},\n",
    "                 headers={\n",
    "                     \"Authorization\":admin_token})"
   ]
  },
  {
   "cell_type": "code",
   "execution_count": 94,
   "metadata": {
    "collapsed": false,
    "scrolled": true
   },
   "outputs": [
    {
     "data": {
      "text/plain": [
       "{'result': True}"
      ]
     },
     "execution_count": 94,
     "metadata": {},
     "output_type": "execute_result"
    }
   ],
   "source": [
    "q.json()"
   ]
  },
  {
   "cell_type": "markdown",
   "metadata": {},
   "source": [
    "## api-user_role\n"
   ]
  },
  {
   "cell_type": "markdown",
   "metadata": {},
   "source": [
    "### get\n",
    "\n",
    "admin查看hsz"
   ]
  },
  {
   "cell_type": "code",
   "execution_count": 95,
   "metadata": {
    "collapsed": true
   },
   "outputs": [],
   "source": [
    "q = requests.get(f\"http://localhost:4500/api/user/role/{hsz.get('_id')}\",\n",
    "                 headers={\n",
    "                     \"Authorization\":admin_token})"
   ]
  },
  {
   "cell_type": "code",
   "execution_count": 96,
   "metadata": {
    "collapsed": false,
    "scrolled": true
   },
   "outputs": [
    {
     "data": {
      "text/plain": [
       "{'roles': [], 'username': 'hsz'}"
      ]
     },
     "execution_count": 96,
     "metadata": {},
     "output_type": "execute_result"
    }
   ],
   "source": [
    "q.json()"
   ]
  },
  {
   "cell_type": "markdown",
   "metadata": {},
   "source": [
    "admin查看admin"
   ]
  },
  {
   "cell_type": "code",
   "execution_count": 97,
   "metadata": {
    "collapsed": true
   },
   "outputs": [],
   "source": [
    "q = requests.get(f\"http://localhost:4500/api/user/role/{admin.get('_id')}\",\n",
    "                 headers={\n",
    "                     \"Authorization\":admin_token})"
   ]
  },
  {
   "cell_type": "code",
   "execution_count": 98,
   "metadata": {
    "collapsed": false
   },
   "outputs": [
    {
     "data": {
      "text/plain": [
       "{'roles': ['auth-center', 'msg_reverse_indexing'], 'username': 'admin'}"
      ]
     },
     "execution_count": 98,
     "metadata": {},
     "output_type": "execute_result"
    }
   ],
   "source": [
    "q.json()"
   ]
  },
  {
   "cell_type": "markdown",
   "metadata": {},
   "source": [
    "hsz查看hsz"
   ]
  },
  {
   "cell_type": "code",
   "execution_count": 99,
   "metadata": {
    "collapsed": true
   },
   "outputs": [],
   "source": [
    "q = requests.get(f\"http://localhost:4500/api/user/role/{hsz.get('_id')}\",\n",
    "                 headers={\n",
    "                     \"Authorization\":hsz_token})"
   ]
  },
  {
   "cell_type": "code",
   "execution_count": 100,
   "metadata": {
    "collapsed": false
   },
   "outputs": [
    {
     "data": {
      "text/plain": [
       "{'roles': [], 'username': 'hsz'}"
      ]
     },
     "execution_count": 100,
     "metadata": {},
     "output_type": "execute_result"
    }
   ],
   "source": [
    "q.json()"
   ]
  },
  {
   "cell_type": "markdown",
   "metadata": {},
   "source": [
    "hsz查看admin"
   ]
  },
  {
   "cell_type": "code",
   "execution_count": 101,
   "metadata": {
    "collapsed": true
   },
   "outputs": [],
   "source": [
    "q = requests.get(f\"http://localhost:4500/api/user/role/{admin.get('_id')}\",\n",
    "                 headers={\n",
    "                     \"Authorization\":hsz_token})"
   ]
  },
  {
   "cell_type": "code",
   "execution_count": 102,
   "metadata": {
    "collapsed": false
   },
   "outputs": [
    {
     "data": {
      "text/plain": [
       "401"
      ]
     },
     "execution_count": 102,
     "metadata": {},
     "output_type": "execute_result"
    }
   ],
   "source": [
    "q.status_code"
   ]
  },
  {
   "cell_type": "code",
   "execution_count": 103,
   "metadata": {
    "collapsed": false
   },
   "outputs": [
    {
     "data": {
      "text/plain": [
       "{'message': '没有权限查看'}"
      ]
     },
     "execution_count": 103,
     "metadata": {},
     "output_type": "execute_result"
    }
   ],
   "source": [
    "q.json()"
   ]
  },
  {
   "cell_type": "markdown",
   "metadata": {},
   "source": [
    "### post\n",
    "\n",
    "hsz为hsz添加权限"
   ]
  },
  {
   "cell_type": "code",
   "execution_count": 105,
   "metadata": {
    "collapsed": false
   },
   "outputs": [],
   "source": [
    "q = requests.post(f\"http://localhost:4500/api/user/role/{hsz.get('_id')}\",\n",
    "                  json={\"service_name\":\"msg_reverse_indexing\"},\n",
    "                 headers={\n",
    "                     \"Authorization\":hsz_token})"
   ]
  },
  {
   "cell_type": "code",
   "execution_count": 106,
   "metadata": {
    "collapsed": false,
    "scrolled": true
   },
   "outputs": [
    {
     "data": {
      "text/plain": [
       "{'message': '没有权限查看'}"
      ]
     },
     "execution_count": 106,
     "metadata": {},
     "output_type": "execute_result"
    }
   ],
   "source": [
    "q.json()"
   ]
  },
  {
   "cell_type": "markdown",
   "metadata": {},
   "source": [
    "admin为hsz添加权限"
   ]
  },
  {
   "cell_type": "code",
   "execution_count": 107,
   "metadata": {
    "collapsed": true
   },
   "outputs": [],
   "source": [
    "q = requests.post(f\"http://localhost:4500/api/user/role/{hsz.get('_id')}\",\n",
    "                 json={\"service_name\":\"msg_reverse_indexing\"},\n",
    "                  headers={\n",
    "                     \"Authorization\":admin_token})"
   ]
  },
  {
   "cell_type": "code",
   "execution_count": 108,
   "metadata": {
    "collapsed": false
   },
   "outputs": [
    {
     "data": {
      "text/plain": [
       "{'result': True}"
      ]
     },
     "execution_count": 108,
     "metadata": {},
     "output_type": "execute_result"
    }
   ],
   "source": [
    "q.json()"
   ]
  },
  {
   "cell_type": "markdown",
   "metadata": {},
   "source": [
    "### delete\n",
    "\n",
    "hsz删除hsz的权限"
   ]
  },
  {
   "cell_type": "code",
   "execution_count": 109,
   "metadata": {
    "collapsed": true
   },
   "outputs": [],
   "source": [
    "q = requests.delete(f\"http://localhost:4500/api/user/role/{hsz.get('_id')}\",\n",
    "                  json={\"service_name\":\"msg_reverse_indexing\"},\n",
    "                 headers={\n",
    "                     \"Authorization\":hsz_token})"
   ]
  },
  {
   "cell_type": "code",
   "execution_count": 110,
   "metadata": {
    "collapsed": false
   },
   "outputs": [
    {
     "data": {
      "text/plain": [
       "{'message': '没有权限删除权限'}"
      ]
     },
     "execution_count": 110,
     "metadata": {},
     "output_type": "execute_result"
    }
   ],
   "source": [
    "q.json()"
   ]
  },
  {
   "cell_type": "markdown",
   "metadata": {},
   "source": [
    "admin删除hsz权限"
   ]
  },
  {
   "cell_type": "code",
   "execution_count": 111,
   "metadata": {
    "collapsed": true
   },
   "outputs": [],
   "source": [
    "q = requests.delete(f\"http://localhost:4500/api/user/role/{hsz.get('_id')}\",\n",
    "                 json={\"service_name\":\"msg_reverse_indexing\"},\n",
    "                  headers={\n",
    "                     \"Authorization\":admin_token})"
   ]
  },
  {
   "cell_type": "code",
   "execution_count": 112,
   "metadata": {
    "collapsed": false
   },
   "outputs": [
    {
     "data": {
      "text/plain": [
       "{'result': True}"
      ]
     },
     "execution_count": 112,
     "metadata": {},
     "output_type": "execute_result"
    }
   ],
   "source": [
    "q.json()"
   ]
  },
  {
   "cell_type": "markdown",
   "metadata": {},
   "source": [
    "## api-user/main_email\n",
    "\n",
    "### get"
   ]
  },
  {
   "cell_type": "code",
   "execution_count": null,
   "metadata": {
    "collapsed": true
   },
   "outputs": [],
   "source": [
    "q = requests.get(\"http://localhost:4500/api/user/role/61179587-d2a1-43f3-8626-63c469c24e8b\",\n",
    "                 headers={\n",
    "                     \"Authorization\":\"eyJfaWQiOiJmODMwZTg3ZS0wMGRiLTQ2NTYtYmM3MS00OTE4MjNkNzlkZWEiLCJyb2xlcyI6WyJhdXRoLWNlbnRlciIsIm1zZ19yZXZlcnNlX2luZGV4aW5nIl19.DHQuJA.oJzNr7ZZR81lfrvHNtxYR4UaFH4\"})"
   ]
  }
 ],
 "metadata": {
  "kernelspec": {
   "display_name": "Python 3",
   "language": "python",
   "name": "python3"
  },
  "language_info": {
   "codemirror_mode": {
    "name": "ipython",
    "version": 3
   },
   "file_extension": ".py",
   "mimetype": "text/x-python",
   "name": "python",
   "nbconvert_exporter": "python",
   "pygments_lexer": "ipython3",
   "version": "3.6.0"
  }
 },
 "nbformat": 4,
 "nbformat_minor": 2
}
