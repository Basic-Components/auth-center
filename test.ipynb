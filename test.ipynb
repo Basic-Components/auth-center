{
 "cells": [
  {
   "cell_type": "code",
   "execution_count": 1,
   "metadata": {
    "collapsed": true
   },
   "outputs": [],
   "source": [
    "import requests"
   ]
  },
  {
   "cell_type": "markdown",
   "metadata": {},
   "source": [
    "## signup"
   ]
  },
  {
   "cell_type": "code",
   "execution_count": 4,
   "metadata": {
    "collapsed": true
   },
   "outputs": [],
   "source": [
    "q = requests.post(\"http://localhost:4500/captcha\",json={\"type\":\"signup\"})"
   ]
  },
  {
   "cell_type": "code",
   "execution_count": 5,
   "metadata": {},
   "outputs": [
    {
     "data": {
      "text/plain": [
       "{'message': {'captcha_id': 'a703164d-4ef1-47a2-975a-f41e1e916bd0',\n",
       "  'content': 'iVBORw0KGgoAAAANSUhEUgAAAIwAAAAoCAYAAAAsTRLGAAAE2ElEQVR4nO1bT0gUURj/XgUeWtHDRiWSwSIpsZc8CB46eBJBMAhNwoPbKZC6eShIKcEgBVHwLgiRCBYEXUUQIoRKFlylWhREqD0YWrAdeh2GaefP+/O9eTM7M+v84OH43vu+7/fe/OZ7b/4soZRScIAQQpx1CRIAABCWYNDGibBOHQgAgI5oUEESYdUMqiIYLBJhRR+REgwWibDCw/+Jj5toMEiE5T9qWjBYJMLCIxGMAhJhWQQDkIjGL9SysM6ETQADQiqlvT1sNnJQJMLm6QWRzjCY61TEmBBxe1wQpYzlKcNkMgBtbQAbG37TqWBvz/4/pUbZ3LTXEwLQ3Mz3Y81OrBIHQblS08pKaBnLpVxZYJHWWZbZLEA+7+3EmLFkWUQUH3ttyvi9ewfw8yfAnTs4f4FCQ+m62Uopw1hD/foF0NPjbv/2zV43Nma3dV7h09OqlO2wztuLF+J+rGLlLkJvL8DQkJ17AhBv2MxpXl8Xtzu98E8Xu7/T7vNnEStKZ2Yqfe/dY/v4+JFvXyqJefT3sznPzIh5BQIASnt6NMz1wLxORI4xy4QTLS0A+/tW/25/PJ+ydhlOTgDq63H2orF5Gbfv8ImEzrKkvOn98cMMik/L1g2sc6zWpYHlzyku0QaXhVRKrT8AQKGgblM1hLxLVxZMOl0RDYB9Tf/9W5+QTDQHB5V4z57px2Mhl7PzsXJ6+DCYmLEHZj3M5fB7ErO+XBatr0ZZW+P3uX6dHe/iRb7N6KjRZ3ZWPJ6pKTf/y5dxe7ChIbFvLXz/Lt5keUAogrHi7FmxaN6/l4/5wwf8vLx5wz5xN26w+/NOdGcnpcUipfk8fhPu7CfjXC77cL59FIvhroqCkQ3ebJ+bU7PD9hHZyTKcrAwPq3OTCW1rS1Mw3d21IRiMaGR1MjtMLJb94iIu9vY2pVeu2OM8fcr2PTsrF83Xr+628XENwdy8aRiOjHgw5sN3wchEU1fHn4S/f9lt8/N4oT144K7r6sJOhvikYmxly5KfbShCAcCLJoQ3xjKnXl4OYp+78Owww9T18epV5RWAig/e2FIp48k4JjbTaUAJwcvzGK3PG0z5s9DRIR+n9Za8oUEsQPM1BCEAq6s4fq9fs+s/fRLbDQ5WjpeX7W3nzxt/L11y2/HGa4plclIc14U4vn/wOw1mMvw9ilnq69m2X77Y+7Fu0R89qrQ3Ntrbjo+97Yew9bx287ZeaTbfvjUMBgYUjNQRecEYJN2Tt7REaV+f8cgBay8r2NgqPDE+nBzM41u3cHH/G+XzCgbeEFvB6Phxltu3KT06wtm0tlK6syPux2t78kTOzXmsNLgqwHfBBCEacwKfP/fbMz62ShH5wcSamDD+vnypSPLPH6WxeUXkBbO7G+jdohIKBUqvXmULZWGBb4fhn0rJhcd1XkWoaOGc7+pC4OgojKhsXLsGUCx6txfd9R4fx/NGRwSt4aiq8zSiVAK4cME4Rs1WCB/eqDyP0cow2ECnWVjptEJn8/vWKk8XpZRiz2WkEmatCgudNEL8GQNWMJH6IRtBImyeMty9C/D4sXF8/76icTbrOx8/EfnJ10FYGevwEKCpyV0vZBOBj4YxF2NNCwaLoISl+wF7tZEIxmfU6h7LRCKYkBBnYclEkwgmRERRWDLB/AMeJoHwy30V/gAAAABJRU5ErkJggg=='}}"
      ]
     },
     "execution_count": 5,
     "metadata": {},
     "output_type": "execute_result"
    }
   ],
   "source": [
    "q.json()"
   ]
  },
  {
   "cell_type": "code",
   "execution_count": 6,
   "metadata": {},
   "outputs": [
    {
     "data": {
      "text/html": [
       "<img src=\"data:image/png;base64,iVBORw0KGgoAAAANSUhEUgAAAIwAAAAoCAYAAAAsTRLGAAAE2ElEQVR4nO1bT0gUURj/XgUeWtHDRiWSwSIpsZc8CB46eBJBMAhNwoPbKZC6eShIKcEgBVHwLgiRCBYEXUUQIoRKFlylWhREqD0YWrAdeh2GaefP+/O9eTM7M+v84OH43vu+7/fe/OZ7b/4soZRScIAQQpx1CRIAABCWYNDGibBOHQgAgI5oUEESYdUMqiIYLBJhRR+REgwWibDCw/+Jj5toMEiE5T9qWjBYJMLCIxGMAhJhWQQDkIjGL9SysM6ETQADQiqlvT1sNnJQJMLm6QWRzjCY61TEmBBxe1wQpYzlKcNkMgBtbQAbG37TqWBvz/4/pUbZ3LTXEwLQ3Mz3Y81OrBIHQblS08pKaBnLpVxZYJHWWZbZLEA+7+3EmLFkWUQUH3ttyvi9ewfw8yfAnTs4f4FCQ+m62Uopw1hD/foF0NPjbv/2zV43Nma3dV7h09OqlO2wztuLF+J+rGLlLkJvL8DQkJ17AhBv2MxpXl8Xtzu98E8Xu7/T7vNnEStKZ2Yqfe/dY/v4+JFvXyqJefT3sznPzIh5BQIASnt6NMz1wLxORI4xy4QTLS0A+/tW/25/PJ+ydhlOTgDq63H2orF5Gbfv8ImEzrKkvOn98cMMik/L1g2sc6zWpYHlzyku0QaXhVRKrT8AQKGgblM1hLxLVxZMOl0RDYB9Tf/9W5+QTDQHB5V4z57px2Mhl7PzsXJ6+DCYmLEHZj3M5fB7ErO+XBatr0ZZW+P3uX6dHe/iRb7N6KjRZ3ZWPJ6pKTf/y5dxe7ChIbFvLXz/Lt5keUAogrHi7FmxaN6/l4/5wwf8vLx5wz5xN26w+/NOdGcnpcUipfk8fhPu7CfjXC77cL59FIvhroqCkQ3ebJ+bU7PD9hHZyTKcrAwPq3OTCW1rS1Mw3d21IRiMaGR1MjtMLJb94iIu9vY2pVeu2OM8fcr2PTsrF83Xr+628XENwdy8aRiOjHgw5sN3wchEU1fHn4S/f9lt8/N4oT144K7r6sJOhvikYmxly5KfbShCAcCLJoQ3xjKnXl4OYp+78Owww9T18epV5RWAig/e2FIp48k4JjbTaUAJwcvzGK3PG0z5s9DRIR+n9Za8oUEsQPM1BCEAq6s4fq9fs+s/fRLbDQ5WjpeX7W3nzxt/L11y2/HGa4plclIc14U4vn/wOw1mMvw9ilnq69m2X77Y+7Fu0R89qrQ3Ntrbjo+97Yew9bx287ZeaTbfvjUMBgYUjNQRecEYJN2Tt7REaV+f8cgBay8r2NgqPDE+nBzM41u3cHH/G+XzCgbeEFvB6Phxltu3KT06wtm0tlK6syPux2t78kTOzXmsNLgqwHfBBCEacwKfP/fbMz62ShH5wcSamDD+vnypSPLPH6WxeUXkBbO7G+jdohIKBUqvXmULZWGBb4fhn0rJhcd1XkWoaOGc7+pC4OgojKhsXLsGUCx6txfd9R4fx/NGRwSt4aiq8zSiVAK4cME4Rs1WCB/eqDyP0cow2ECnWVjptEJn8/vWKk8XpZRiz2WkEmatCgudNEL8GQNWMJH6IRtBImyeMty9C/D4sXF8/76icTbrOx8/EfnJ10FYGevwEKCpyV0vZBOBj4YxF2NNCwaLoISl+wF7tZEIxmfU6h7LRCKYkBBnYclEkwgmRERRWDLB/AMeJoHwy30V/gAAAABJRU5ErkJggg==\">"
      ],
      "text/plain": [
       "<IPython.core.display.HTML object>"
      ]
     },
     "metadata": {},
     "output_type": "display_data"
    }
   ],
   "source": [
    "%%html\n",
    "<img src=\"data:image/png;base64,iVBORw0KGgoAAAANSUhEUgAAAIwAAAAoCAYAAAAsTRLGAAAE2ElEQVR4nO1bT0gUURj/XgUeWtHDRiWSwSIpsZc8CB46eBJBMAhNwoPbKZC6eShIKcEgBVHwLgiRCBYEXUUQIoRKFlylWhREqD0YWrAdeh2GaefP+/O9eTM7M+v84OH43vu+7/fe/OZ7b/4soZRScIAQQpx1CRIAABCWYNDGibBOHQgAgI5oUEESYdUMqiIYLBJhRR+REgwWibDCw/+Jj5toMEiE5T9qWjBYJMLCIxGMAhJhWQQDkIjGL9SysM6ETQADQiqlvT1sNnJQJMLm6QWRzjCY61TEmBBxe1wQpYzlKcNkMgBtbQAbG37TqWBvz/4/pUbZ3LTXEwLQ3Mz3Y81OrBIHQblS08pKaBnLpVxZYJHWWZbZLEA+7+3EmLFkWUQUH3ttyvi9ewfw8yfAnTs4f4FCQ+m62Uopw1hD/foF0NPjbv/2zV43Nma3dV7h09OqlO2wztuLF+J+rGLlLkJvL8DQkJ17AhBv2MxpXl8Xtzu98E8Xu7/T7vNnEStKZ2Yqfe/dY/v4+JFvXyqJefT3sznPzIh5BQIASnt6NMz1wLxORI4xy4QTLS0A+/tW/25/PJ+ydhlOTgDq63H2orF5Gbfv8ImEzrKkvOn98cMMik/L1g2sc6zWpYHlzyku0QaXhVRKrT8AQKGgblM1hLxLVxZMOl0RDYB9Tf/9W5+QTDQHB5V4z57px2Mhl7PzsXJ6+DCYmLEHZj3M5fB7ErO+XBatr0ZZW+P3uX6dHe/iRb7N6KjRZ3ZWPJ6pKTf/y5dxe7ChIbFvLXz/Lt5keUAogrHi7FmxaN6/l4/5wwf8vLx5wz5xN26w+/NOdGcnpcUipfk8fhPu7CfjXC77cL59FIvhroqCkQ3ebJ+bU7PD9hHZyTKcrAwPq3OTCW1rS1Mw3d21IRiMaGR1MjtMLJb94iIu9vY2pVeu2OM8fcr2PTsrF83Xr+628XENwdy8aRiOjHgw5sN3wchEU1fHn4S/f9lt8/N4oT144K7r6sJOhvikYmxly5KfbShCAcCLJoQ3xjKnXl4OYp+78Owww9T18epV5RWAig/e2FIp48k4JjbTaUAJwcvzGK3PG0z5s9DRIR+n9Za8oUEsQPM1BCEAq6s4fq9fs+s/fRLbDQ5WjpeX7W3nzxt/L11y2/HGa4plclIc14U4vn/wOw1mMvw9ilnq69m2X77Y+7Fu0R89qrQ3Ntrbjo+97Yew9bx287ZeaTbfvjUMBgYUjNQRecEYJN2Tt7REaV+f8cgBay8r2NgqPDE+nBzM41u3cHH/G+XzCgbeEFvB6Phxltu3KT06wtm0tlK6syPux2t78kTOzXmsNLgqwHfBBCEacwKfP/fbMz62ShH5wcSamDD+vnypSPLPH6WxeUXkBbO7G+jdohIKBUqvXmULZWGBb4fhn0rJhcd1XkWoaOGc7+pC4OgojKhsXLsGUCx6txfd9R4fx/NGRwSt4aiq8zSiVAK4cME4Rs1WCB/eqDyP0cow2ECnWVjptEJn8/vWKk8XpZRiz2WkEmatCgudNEL8GQNWMJH6IRtBImyeMty9C/D4sXF8/76icTbrOx8/EfnJ10FYGevwEKCpyV0vZBOBj4YxF2NNCwaLoISl+wF7tZEIxmfU6h7LRCKYkBBnYclEkwgmRERRWDLB/AMeJoHwy30V/gAAAABJRU5ErkJggg==\">"
   ]
  },
  {
   "cell_type": "code",
   "execution_count": 7,
   "metadata": {
    "collapsed": true
   },
   "outputs": [],
   "source": [
    "q = requests.post(\"http://localhost:4500/auth/signup\",\n",
    "                  json={\"username\":\"hsz\",\n",
    "                        \"password\":\"hsz\",\n",
    "                        \"main_email\":\"hsz1273327@gmail.com\",\n",
    "                        \"captcha_id\":'a703164d-4ef1-47a2-975a-f41e1e916bd0',\n",
    "                        \"captcha_code\":\"spSBfy\"\n",
    "                       }\n",
    "                 )"
   ]
  },
  {
   "cell_type": "code",
   "execution_count": 8,
   "metadata": {},
   "outputs": [
    {
     "data": {
      "text/plain": [
       "{'result': True}"
      ]
     },
     "execution_count": 8,
     "metadata": {},
     "output_type": "execute_result"
    }
   ],
   "source": [
    "q.json()"
   ]
  },
  {
   "cell_type": "code",
   "execution_count": 9,
   "metadata": {
    "collapsed": true
   },
   "outputs": [],
   "source": [
    "q = requests.post(\"http://localhost:4500/auth/signup/ajax/username\",\n",
    "                  json={\"username\":\"hsz\"}\n",
    "                 )"
   ]
  },
  {
   "cell_type": "code",
   "execution_count": 10,
   "metadata": {},
   "outputs": [
    {
     "data": {
      "text/plain": [
       "{'message': '用户已存在', 'result': False}"
      ]
     },
     "execution_count": 10,
     "metadata": {},
     "output_type": "execute_result"
    }
   ],
   "source": [
    "q.json()"
   ]
  },
  {
   "cell_type": "code",
   "execution_count": 11,
   "metadata": {
    "collapsed": true
   },
   "outputs": [],
   "source": [
    "q = requests.post(\"http://localhost:4500/auth/signup/ajax/main_email\",\n",
    "                  json={\"main_email\":\"hsz@123.com\"}\n",
    "                 )"
   ]
  },
  {
   "cell_type": "code",
   "execution_count": 12,
   "metadata": {},
   "outputs": [
    {
     "data": {
      "text/plain": [
       "{'message': 'email可用', 'result': True}"
      ]
     },
     "execution_count": 12,
     "metadata": {},
     "output_type": "execute_result"
    }
   ],
   "source": [
    "q.json()"
   ]
  },
  {
   "cell_type": "markdown",
   "metadata": {},
   "source": [
    "# auth\n",
    "\n",
    "## /"
   ]
  },
  {
   "cell_type": "code",
   "execution_count": 37,
   "metadata": {},
   "outputs": [],
   "source": [
    "q = requests.post(\"http://localhost:4500/auth\",json={\"username\":\"admin\",\"password\":\"admin\"})"
   ]
  },
  {
   "cell_type": "code",
   "execution_count": 38,
   "metadata": {
    "scrolled": true
   },
   "outputs": [
    {
     "data": {
      "text/plain": [
       "{'message': 'eyJfaWQiOiI3YzMzMDVlYS05N2EwLTQ4MzQtODM0Zi03NWNkYTVmYWQxYmQiLCJyb2xlcyI6WyJhdXRoLWNlbnRlciIsIm1zZ19yZXZlcnNlX2luZGV4aW5nIl19.DHTJkw.ySGGX9osMVldU6E8p19T0R3wwP0'}"
      ]
     },
     "execution_count": 38,
     "metadata": {},
     "output_type": "execute_result"
    }
   ],
   "source": [
    "q.json()"
   ]
  },
  {
   "cell_type": "code",
   "execution_count": 39,
   "metadata": {
    "collapsed": true
   },
   "outputs": [],
   "source": [
    "q = requests.post(\"http://localhost:4500/auth\",json={\"username\":\"hsz\",\"password\":\"hsz\"})"
   ]
  },
  {
   "cell_type": "code",
   "execution_count": 40,
   "metadata": {},
   "outputs": [
    {
     "data": {
      "text/plain": [
       "{'message': 'eyJfaWQiOiIzM2MyODAwMi1mYjk4LTQ0NjMtYmM3Zi1mZmY0NWM0ODVhZjQiLCJyb2xlcyI6W119.DHTJlg.bvf8uQISfREyB_Y8jJMMuyVBrwY'}"
      ]
     },
     "execution_count": 40,
     "metadata": {},
     "output_type": "execute_result"
    }
   ],
   "source": [
    "q.json()"
   ]
  },
  {
   "cell_type": "markdown",
   "metadata": {
    "collapsed": true
   },
   "source": [
    "# api-role"
   ]
  },
  {
   "cell_type": "markdown",
   "metadata": {},
   "source": [
    "## rolelist"
   ]
  },
  {
   "cell_type": "markdown",
   "metadata": {},
   "source": [
    "admin实际token\n",
    "\n",
    "eyJfaWQiOiI5ODgxODdjMi0wY2ExLTQ1ZTMtYWZiNy1jZDMyYTYwYTVkZjYiLCJyb2xlcyI6WyJhdXRoLWNlbnRlciIsIm1zZ19yZXZlcnNlX2luZGV4aW5nIl19.DHRX8w.NASYtsRoP3eUdyA_Aijir73A6oA"
   ]
  },
  {
   "cell_type": "markdown",
   "metadata": {},
   "source": [
    "hsz实际token\n",
    "\n",
    "eyJfaWQiOiJiZjljMjc3My04NzE2LTQzMTQtOTQxYy1lZmY5ZTJjMzZkYzAiLCJyb2xlcyI6W119.DHRYDQ.Y6B1LGmo950DP3EZG1ricZO7yPM"
   ]
  },
  {
   "cell_type": "markdown",
   "metadata": {},
   "source": [
    "### get with service_name"
   ]
  },
  {
   "cell_type": "code",
   "execution_count": 201,
   "metadata": {
    "collapsed": true
   },
   "outputs": [],
   "source": [
    "q = requests.get(\"http://localhost:4500/api/role\",params={\"service_name\":\"auth-center\"},\n",
    "                 headers={\n",
    "                     \"Authorization\":\"eyJfaWQiOiI5ODgxODdjMi0wY2ExLTQ1ZTMtYWZiNy1jZDMyYTYwYTVkZjYiLCJyb2xlcyI6WyJhdXRoLWNlbnRlciIsIm1zZ19yZXZlcnNlX2luZGV4aW5nIl19.DHRX8w.NASYtsRoP3eUdyA_Aijir73A6oA\"})"
   ]
  },
  {
   "cell_type": "code",
   "execution_count": 202,
   "metadata": {},
   "outputs": [
    {
     "data": {
      "text/plain": [
       "{'message': True}"
      ]
     },
     "execution_count": 202,
     "metadata": {},
     "output_type": "execute_result"
    }
   ],
   "source": [
    "q.json()"
   ]
  },
  {
   "cell_type": "markdown",
   "metadata": {},
   "source": [
    "### get "
   ]
  },
  {
   "cell_type": "code",
   "execution_count": 203,
   "metadata": {
    "collapsed": true
   },
   "outputs": [],
   "source": [
    "q = requests.get(\"http://localhost:4500/api/role\",\n",
    "                 headers={\n",
    "                     \"Authorization\":\"eyJfaWQiOiI5ODgxODdjMi0wY2ExLTQ1ZTMtYWZiNy1jZDMyYTYwYTVkZjYiLCJyb2xlcyI6WyJhdXRoLWNlbnRlciIsIm1zZ19yZXZlcnNlX2luZGV4aW5nIl19.DHRX8w.NASYtsRoP3eUdyA_Aijir73A6oA\"})"
   ]
  },
  {
   "cell_type": "code",
   "execution_count": 204,
   "metadata": {},
   "outputs": [
    {
     "data": {
      "text/plain": [
       "{'message': {'rolelist': [{'servicename': 'auth-center'},\n",
       "   {'servicename': 'msg_reverse_indexing'}]}}"
      ]
     },
     "execution_count": 204,
     "metadata": {},
     "output_type": "execute_result"
    }
   ],
   "source": [
    "q.json()"
   ]
  },
  {
   "cell_type": "markdown",
   "metadata": {},
   "source": [
    "### post\n",
    "\n",
    "字段错误"
   ]
  },
  {
   "cell_type": "code",
   "execution_count": 205,
   "metadata": {
    "collapsed": true
   },
   "outputs": [],
   "source": [
    "q = requests.post(\"http://localhost:4500/api/role\",\n",
    "                  json={\"roles\":[{\"name\":\"abc\"}]},\n",
    "                 headers={\n",
    "                     \"Authorization\":\"eyJfaWQiOiI5ODgxODdjMi0wY2ExLTQ1ZTMtYWZiNy1jZDMyYTYwYTVkZjYiLCJyb2xlcyI6WyJhdXRoLWNlbnRlciIsIm1zZ19yZXZlcnNlX2luZGV4aW5nIl19.DHRX8w.NASYtsRoP3eUdyA_Aijir73A6oA\"})"
   ]
  },
  {
   "cell_type": "code",
   "execution_count": 206,
   "metadata": {},
   "outputs": [
    {
     "data": {
      "text/plain": [
       "{'error': '\\'\"name\" is not a recognized field.\\'', 'message': '数据库错误'}"
      ]
     },
     "execution_count": 206,
     "metadata": {},
     "output_type": "execute_result"
    }
   ],
   "source": [
    "q.json()"
   ]
  },
  {
   "cell_type": "markdown",
   "metadata": {},
   "source": [
    "正确"
   ]
  },
  {
   "cell_type": "code",
   "execution_count": 207,
   "metadata": {
    "collapsed": true
   },
   "outputs": [],
   "source": [
    "q = requests.post(\"http://localhost:4500/api/role\",\n",
    "                  json={\"roles\":[{\"service_name\":\"abc\"}]},\n",
    "                 headers={\n",
    "                     \"Authorization\":\"eyJfaWQiOiI5ODgxODdjMi0wY2ExLTQ1ZTMtYWZiNy1jZDMyYTYwYTVkZjYiLCJyb2xlcyI6WyJhdXRoLWNlbnRlciIsIm1zZ19yZXZlcnNlX2luZGV4aW5nIl19.DHRX8w.NASYtsRoP3eUdyA_Aijir73A6oA\"})"
   ]
  },
  {
   "cell_type": "code",
   "execution_count": 208,
   "metadata": {},
   "outputs": [
    {
     "data": {
      "text/plain": [
       "{'result': True}"
      ]
     },
     "execution_count": 208,
     "metadata": {},
     "output_type": "execute_result"
    }
   ],
   "source": [
    "q.json()"
   ]
  },
  {
   "cell_type": "code",
   "execution_count": 209,
   "metadata": {
    "collapsed": true
   },
   "outputs": [],
   "source": [
    "q = requests.get(\"http://localhost:4500/api/role\",\n",
    "                 headers={\n",
    "                     \"Authorization\":\"eyJfaWQiOiI5ODgxODdjMi0wY2ExLTQ1ZTMtYWZiNy1jZDMyYTYwYTVkZjYiLCJyb2xlcyI6WyJhdXRoLWNlbnRlciIsIm1zZ19yZXZlcnNlX2luZGV4aW5nIl19.DHRX8w.NASYtsRoP3eUdyA_Aijir73A6oA\"})"
   ]
  },
  {
   "cell_type": "code",
   "execution_count": 210,
   "metadata": {},
   "outputs": [
    {
     "data": {
      "text/plain": [
       "{'message': {'rolelist': [{'servicename': 'auth-center'},\n",
       "   {'servicename': 'msg_reverse_indexing'},\n",
       "   {'servicename': 'abc'}]}}"
      ]
     },
     "execution_count": 210,
     "metadata": {},
     "output_type": "execute_result"
    }
   ],
   "source": [
    "q.json()"
   ]
  },
  {
   "cell_type": "markdown",
   "metadata": {},
   "source": [
    "### delete"
   ]
  },
  {
   "cell_type": "code",
   "execution_count": 211,
   "metadata": {
    "collapsed": true
   },
   "outputs": [],
   "source": [
    "q = requests.delete(\"http://localhost:4500/api/role\",\n",
    "                  json={\"service_name\":\"abc\"},\n",
    "                 headers={\n",
    "                     \"Authorization\":\"eyJfaWQiOiI5ODgxODdjMi0wY2ExLTQ1ZTMtYWZiNy1jZDMyYTYwYTVkZjYiLCJyb2xlcyI6WyJhdXRoLWNlbnRlciIsIm1zZ19yZXZlcnNlX2luZGV4aW5nIl19.DHRX8w.NASYtsRoP3eUdyA_Aijir73A6oA\"})"
   ]
  },
  {
   "cell_type": "code",
   "execution_count": 212,
   "metadata": {},
   "outputs": [
    {
     "data": {
      "text/plain": [
       "{'result': True}"
      ]
     },
     "execution_count": 212,
     "metadata": {},
     "output_type": "execute_result"
    }
   ],
   "source": [
    "q.json()"
   ]
  },
  {
   "cell_type": "code",
   "execution_count": 213,
   "metadata": {
    "collapsed": true
   },
   "outputs": [],
   "source": [
    "q = requests.get(\"http://localhost:4500/api/role\",\n",
    "                 headers={\n",
    "                     \"Authorization\":\"eyJfaWQiOiI5ODgxODdjMi0wY2ExLTQ1ZTMtYWZiNy1jZDMyYTYwYTVkZjYiLCJyb2xlcyI6WyJhdXRoLWNlbnRlciIsIm1zZ19yZXZlcnNlX2luZGV4aW5nIl19.DHRX8w.NASYtsRoP3eUdyA_Aijir73A6oA\"})"
   ]
  },
  {
   "cell_type": "code",
   "execution_count": 214,
   "metadata": {},
   "outputs": [
    {
     "data": {
      "text/plain": [
       "{'message': {'rolelist': [{'servicename': 'auth-center'},\n",
       "   {'servicename': 'msg_reverse_indexing'}]}}"
      ]
     },
     "execution_count": 214,
     "metadata": {},
     "output_type": "execute_result"
    }
   ],
   "source": [
    "q.json()"
   ]
  },
  {
   "cell_type": "markdown",
   "metadata": {},
   "source": [
    "# api-user\n",
    "\n",
    "### get"
   ]
  },
  {
   "cell_type": "code",
   "execution_count": 215,
   "metadata": {
    "collapsed": true
   },
   "outputs": [],
   "source": [
    "q = requests.get(\"http://localhost:4500/api/user\",\n",
    "                 headers={\n",
    "                     \"Authorization\":\"eyJfaWQiOiI5ODgxODdjMi0wY2ExLTQ1ZTMtYWZiNy1jZDMyYTYwYTVkZjYiLCJyb2xlcyI6WyJhdXRoLWNlbnRlciIsIm1zZ19yZXZlcnNlX2luZGV4aW5nIl19.DHRX8w.NASYtsRoP3eUdyA_Aijir73A6oA\"})"
   ]
  },
  {
   "cell_type": "code",
   "execution_count": 216,
   "metadata": {},
   "outputs": [
    {
     "data": {
      "text/plain": [
       "{'userlist': [{'_id': '988187c2-0ca1-45e3-afb7-cd32a60a5df6',\n",
       "   'main_email': 'huangsizhe@rongshutong.com',\n",
       "   'roles': ['auth-center', 'msg_reverse_indexing'],\n",
       "   'username': 'admin'},\n",
       "  {'_id': 'bf9c2773-8716-4314-941c-eff9e2c36dc0',\n",
       "   'main_email': 'hsz1273327@gmail.com',\n",
       "   'roles': [],\n",
       "   'username': 'hsz'}]}"
      ]
     },
     "execution_count": 216,
     "metadata": {},
     "output_type": "execute_result"
    }
   ],
   "source": [
    "q.json()"
   ]
  },
  {
   "cell_type": "markdown",
   "metadata": {},
   "source": [
    "### post"
   ]
  },
  {
   "cell_type": "code",
   "execution_count": 217,
   "metadata": {
    "collapsed": true
   },
   "outputs": [],
   "source": [
    "q = requests.post(\"http://localhost:4500/api/user\",\n",
    "                  json={'users':[\n",
    "                      {\"username\":\"a\",\n",
    "                       \"password\":\"a\",\n",
    "                        \"main_email\":\"a@gmail.com\"}\n",
    "                  ]},\n",
    "                 headers={\n",
    "                     \"Authorization\":\"eyJfaWQiOiI5ODgxODdjMi0wY2ExLTQ1ZTMtYWZiNy1jZDMyYTYwYTVkZjYiLCJyb2xlcyI6WyJhdXRoLWNlbnRlciIsIm1zZ19yZXZlcnNlX2luZGV4aW5nIl19.DHRX8w.NASYtsRoP3eUdyA_Aijir73A6oA\"})"
   ]
  },
  {
   "cell_type": "code",
   "execution_count": 218,
   "metadata": {
    "scrolled": true
   },
   "outputs": [
    {
     "data": {
      "text/plain": [
       "{'result': True}"
      ]
     },
     "execution_count": 218,
     "metadata": {},
     "output_type": "execute_result"
    }
   ],
   "source": [
    "q.json()"
   ]
  },
  {
   "cell_type": "code",
   "execution_count": 219,
   "metadata": {
    "collapsed": true
   },
   "outputs": [],
   "source": [
    "q = requests.get(\"http://localhost:4500/api/user\",\n",
    "                 headers={\n",
    "                     \"Authorization\":\"eyJfaWQiOiI5ODgxODdjMi0wY2ExLTQ1ZTMtYWZiNy1jZDMyYTYwYTVkZjYiLCJyb2xlcyI6WyJhdXRoLWNlbnRlciIsIm1zZ19yZXZlcnNlX2luZGV4aW5nIl19.DHRX8w.NASYtsRoP3eUdyA_Aijir73A6oA\"})"
   ]
  },
  {
   "cell_type": "code",
   "execution_count": 220,
   "metadata": {},
   "outputs": [
    {
     "data": {
      "text/plain": [
       "{'userlist': [{'_id': '988187c2-0ca1-45e3-afb7-cd32a60a5df6',\n",
       "   'main_email': 'huangsizhe@rongshutong.com',\n",
       "   'roles': ['auth-center', 'msg_reverse_indexing'],\n",
       "   'username': 'admin'},\n",
       "  {'_id': 'bf9c2773-8716-4314-941c-eff9e2c36dc0',\n",
       "   'main_email': 'hsz1273327@gmail.com',\n",
       "   'roles': [],\n",
       "   'username': 'hsz'},\n",
       "  {'_id': 'fb22958a-8a01-477c-8410-be6bdd3193bd',\n",
       "   'main_email': 'a@gmail.com',\n",
       "   'roles': [],\n",
       "   'username': 'a'}]}"
      ]
     },
     "execution_count": 220,
     "metadata": {},
     "output_type": "execute_result"
    }
   ],
   "source": [
    "q.json()"
   ]
  },
  {
   "cell_type": "markdown",
   "metadata": {},
   "source": [
    "### delete"
   ]
  },
  {
   "cell_type": "code",
   "execution_count": 223,
   "metadata": {
    "collapsed": true
   },
   "outputs": [],
   "source": [
    "q = requests.delete(\"http://localhost:4500/api/user\",\n",
    "                  json={'users':[\"fb22958a-8a01-477c-8410-be6bdd3193bd\"]},\n",
    "                 headers={\n",
    "                     \"Authorization\":\"eyJfaWQiOiI5ODgxODdjMi0wY2ExLTQ1ZTMtYWZiNy1jZDMyYTYwYTVkZjYiLCJyb2xlcyI6WyJhdXRoLWNlbnRlciIsIm1zZ19yZXZlcnNlX2luZGV4aW5nIl19.DHRX8w.NASYtsRoP3eUdyA_Aijir73A6oA\"})"
   ]
  },
  {
   "cell_type": "code",
   "execution_count": 224,
   "metadata": {
    "scrolled": true
   },
   "outputs": [
    {
     "data": {
      "text/plain": [
       "{'result': True}"
      ]
     },
     "execution_count": 224,
     "metadata": {},
     "output_type": "execute_result"
    }
   ],
   "source": [
    "q.json()"
   ]
  },
  {
   "cell_type": "markdown",
   "metadata": {},
   "source": [
    "## api-user_role\n",
    "\n",
    "### get\n",
    "\n",
    "admin查看hsz"
   ]
  },
  {
   "cell_type": "code",
   "execution_count": 225,
   "metadata": {
    "collapsed": true
   },
   "outputs": [],
   "source": [
    "q = requests.get(\"http://localhost:4500/api/user/role/bf9c2773-8716-4314-941c-eff9e2c36dc0\",\n",
    "                 headers={\n",
    "                     \"Authorization\":\"eyJfaWQiOiI5ODgxODdjMi0wY2ExLTQ1ZTMtYWZiNy1jZDMyYTYwYTVkZjYiLCJyb2xlcyI6WyJhdXRoLWNlbnRlciIsIm1zZ19yZXZlcnNlX2luZGV4aW5nIl19.DHRX8w.NASYtsRoP3eUdyA_Aijir73A6oA\"})"
   ]
  },
  {
   "cell_type": "code",
   "execution_count": 226,
   "metadata": {
    "scrolled": true
   },
   "outputs": [
    {
     "data": {
      "text/plain": [
       "{'roles': [], 'username': 'hsz'}"
      ]
     },
     "execution_count": 226,
     "metadata": {},
     "output_type": "execute_result"
    }
   ],
   "source": [
    "q.json()"
   ]
  },
  {
   "cell_type": "markdown",
   "metadata": {},
   "source": [
    "admin查看admin"
   ]
  },
  {
   "cell_type": "code",
   "execution_count": 227,
   "metadata": {
    "collapsed": true
   },
   "outputs": [],
   "source": [
    "q = requests.get(\"http://localhost:4500/api/user/role/988187c2-0ca1-45e3-afb7-cd32a60a5df6\",\n",
    "                 headers={\n",
    "                     \"Authorization\":\"eyJfaWQiOiI5ODgxODdjMi0wY2ExLTQ1ZTMtYWZiNy1jZDMyYTYwYTVkZjYiLCJyb2xlcyI6WyJhdXRoLWNlbnRlciIsIm1zZ19yZXZlcnNlX2luZGV4aW5nIl19.DHRX8w.NASYtsRoP3eUdyA_Aijir73A6oA\"})"
   ]
  },
  {
   "cell_type": "code",
   "execution_count": 228,
   "metadata": {},
   "outputs": [
    {
     "data": {
      "text/plain": [
       "{'roles': ['auth-center', 'msg_reverse_indexing'], 'username': 'admin'}"
      ]
     },
     "execution_count": 228,
     "metadata": {},
     "output_type": "execute_result"
    }
   ],
   "source": [
    "q.json()"
   ]
  },
  {
   "cell_type": "markdown",
   "metadata": {},
   "source": [
    "hsz查看hsz"
   ]
  },
  {
   "cell_type": "code",
   "execution_count": 229,
   "metadata": {
    "collapsed": true
   },
   "outputs": [],
   "source": [
    "q = requests.get(\"http://localhost:4500/api/user/role/bf9c2773-8716-4314-941c-eff9e2c36dc0\",\n",
    "                 headers={\n",
    "                     \"Authorization\":\"eyJfaWQiOiJiZjljMjc3My04NzE2LTQzMTQtOTQxYy1lZmY5ZTJjMzZkYzAiLCJyb2xlcyI6W119.DHRYDQ.Y6B1LGmo950DP3EZG1ricZO7yPM\"})"
   ]
  },
  {
   "cell_type": "code",
   "execution_count": 230,
   "metadata": {},
   "outputs": [
    {
     "data": {
      "text/plain": [
       "{'roles': [], 'username': 'hsz'}"
      ]
     },
     "execution_count": 230,
     "metadata": {},
     "output_type": "execute_result"
    }
   ],
   "source": [
    "q.json()"
   ]
  },
  {
   "cell_type": "markdown",
   "metadata": {},
   "source": [
    "hsz查看admin"
   ]
  },
  {
   "cell_type": "code",
   "execution_count": 231,
   "metadata": {
    "collapsed": true
   },
   "outputs": [],
   "source": [
    "q = requests.get(\"http://localhost:4500/api/user/role/988187c2-0ca1-45e3-afb7-cd32a60a5df6\",\n",
    "                 headers={\n",
    "                     \"Authorization\":\"eyJfaWQiOiJiZjljMjc3My04NzE2LTQzMTQtOTQxYy1lZmY5ZTJjMzZkYzAiLCJyb2xlcyI6W119.DHRYDQ.Y6B1LGmo950DP3EZG1ricZO7yPM\"})"
   ]
  },
  {
   "cell_type": "code",
   "execution_count": 232,
   "metadata": {},
   "outputs": [
    {
     "data": {
      "text/plain": [
       "401"
      ]
     },
     "execution_count": 232,
     "metadata": {},
     "output_type": "execute_result"
    }
   ],
   "source": [
    "q.status_code"
   ]
  },
  {
   "cell_type": "code",
   "execution_count": 233,
   "metadata": {},
   "outputs": [
    {
     "data": {
      "text/plain": [
       "{'message': '没有权限查看'}"
      ]
     },
     "execution_count": 233,
     "metadata": {},
     "output_type": "execute_result"
    }
   ],
   "source": [
    "q.json()"
   ]
  },
  {
   "cell_type": "markdown",
   "metadata": {},
   "source": [
    "### post\n",
    "\n",
    "hsz为hsz添加权限"
   ]
  },
  {
   "cell_type": "code",
   "execution_count": 234,
   "metadata": {
    "collapsed": true
   },
   "outputs": [],
   "source": [
    "q = requests.post(\"http://localhost:4500/api/user/role/bf9c2773-8716-4314-941c-eff9e2c36dc0\",\n",
    "                  json={\"service_name\":\"msg_reverse_indexing\"},\n",
    "                 headers={\n",
    "                     \"Authorization\":\"eyJfaWQiOiJiZjljMjc3My04NzE2LTQzMTQtOTQxYy1lZmY5ZTJjMzZkYzAiLCJyb2xlcyI6W119.DHRYDQ.Y6B1LGmo950DP3EZG1ricZO7yPM\"})"
   ]
  },
  {
   "cell_type": "code",
   "execution_count": 235,
   "metadata": {
    "scrolled": true
   },
   "outputs": [
    {
     "data": {
      "text/plain": [
       "{'message': '没有权限添加权限'}"
      ]
     },
     "execution_count": 235,
     "metadata": {},
     "output_type": "execute_result"
    }
   ],
   "source": [
    "q.json()"
   ]
  },
  {
   "cell_type": "markdown",
   "metadata": {},
   "source": [
    "admin为hsz添加权限"
   ]
  },
  {
   "cell_type": "code",
   "execution_count": 236,
   "metadata": {
    "collapsed": true
   },
   "outputs": [],
   "source": [
    "q = requests.post(\"http://localhost:4500/api/user/role/bf9c2773-8716-4314-941c-eff9e2c36dc0\",\n",
    "                 json={\"service_name\":\"msg_reverse_indexing\"},\n",
    "                  headers={\n",
    "                     \"Authorization\":\"eyJfaWQiOiI5ODgxODdjMi0wY2ExLTQ1ZTMtYWZiNy1jZDMyYTYwYTVkZjYiLCJyb2xlcyI6WyJhdXRoLWNlbnRlciIsIm1zZ19yZXZlcnNlX2luZGV4aW5nIl19.DHRX8w.NASYtsRoP3eUdyA_Aijir73A6oA\"})"
   ]
  },
  {
   "cell_type": "code",
   "execution_count": 237,
   "metadata": {},
   "outputs": [
    {
     "data": {
      "text/plain": [
       "{'result': True}"
      ]
     },
     "execution_count": 237,
     "metadata": {},
     "output_type": "execute_result"
    }
   ],
   "source": [
    "q.json()"
   ]
  },
  {
   "cell_type": "markdown",
   "metadata": {},
   "source": [
    "### delete\n",
    "\n",
    "hsz删除hsz的权限"
   ]
  },
  {
   "cell_type": "code",
   "execution_count": 238,
   "metadata": {
    "collapsed": true
   },
   "outputs": [],
   "source": [
    "q = requests.delete(\"http://localhost:4500/api/user/role/bf9c2773-8716-4314-941c-eff9e2c36dc0\",\n",
    "                  json={\"service_name\":\"msg_reverse_indexing\"},\n",
    "                 headers={\n",
    "                     \"Authorization\":\"eyJfaWQiOiJiZjljMjc3My04NzE2LTQzMTQtOTQxYy1lZmY5ZTJjMzZkYzAiLCJyb2xlcyI6W119.DHRYDQ.Y6B1LGmo950DP3EZG1ricZO7yPM\"})"
   ]
  },
  {
   "cell_type": "code",
   "execution_count": 239,
   "metadata": {},
   "outputs": [
    {
     "data": {
      "text/plain": [
       "{'message': '没有权限删除权限'}"
      ]
     },
     "execution_count": 239,
     "metadata": {},
     "output_type": "execute_result"
    }
   ],
   "source": [
    "q.json()"
   ]
  },
  {
   "cell_type": "markdown",
   "metadata": {},
   "source": [
    "admin删除hsz权限"
   ]
  },
  {
   "cell_type": "code",
   "execution_count": 240,
   "metadata": {
    "collapsed": true
   },
   "outputs": [],
   "source": [
    "q = requests.delete(\"http://localhost:4500/api/user/role/bf9c2773-8716-4314-941c-eff9e2c36dc0\",\n",
    "                 json={\"service_name\":\"msg_reverse_indexing\"},\n",
    "                  headers={\n",
    "                     \"Authorization\":\"eyJfaWQiOiI5ODgxODdjMi0wY2ExLTQ1ZTMtYWZiNy1jZDMyYTYwYTVkZjYiLCJyb2xlcyI6WyJhdXRoLWNlbnRlciIsIm1zZ19yZXZlcnNlX2luZGV4aW5nIl19.DHRX8w.NASYtsRoP3eUdyA_Aijir73A6oA\"})"
   ]
  },
  {
   "cell_type": "code",
   "execution_count": 241,
   "metadata": {},
   "outputs": [
    {
     "data": {
      "text/plain": [
       "{'result': True}"
      ]
     },
     "execution_count": 241,
     "metadata": {},
     "output_type": "execute_result"
    }
   ],
   "source": [
    "q.json()"
   ]
  },
  {
   "cell_type": "markdown",
   "metadata": {},
   "source": [
    "## api-user/main_email\n",
    "\n",
    "### get"
   ]
  },
  {
   "cell_type": "code",
   "execution_count": null,
   "metadata": {
    "collapsed": true
   },
   "outputs": [],
   "source": [
    "q = requests.get(\"http://localhost:4500/api/user/role/61179587-d2a1-43f3-8626-63c469c24e8b\",\n",
    "                 headers={\n",
    "                     \"Authorization\":\"eyJfaWQiOiJmODMwZTg3ZS0wMGRiLTQ2NTYtYmM3MS00OTE4MjNkNzlkZWEiLCJyb2xlcyI6WyJhdXRoLWNlbnRlciIsIm1zZ19yZXZlcnNlX2luZGV4aW5nIl19.DHQuJA.oJzNr7ZZR81lfrvHNtxYR4UaFH4\"})"
   ]
  }
 ],
 "metadata": {
  "kernelspec": {
   "display_name": "Python 3",
   "language": "python",
   "name": "python3"
  },
  "language_info": {
   "codemirror_mode": {
    "name": "ipython",
    "version": 3
   },
   "file_extension": ".py",
   "mimetype": "text/x-python",
   "name": "python",
   "nbconvert_exporter": "python",
   "pygments_lexer": "ipython3",
   "version": "3.6.0"
  }
 },
 "nbformat": 4,
 "nbformat_minor": 2
}
