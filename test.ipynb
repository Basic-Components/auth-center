{
 "cells": [
  {
   "cell_type": "code",
   "execution_count": 9,
   "metadata": {
    "collapsed": true
   },
   "outputs": [],
   "source": [
    "import requests"
   ]
  },
  {
   "cell_type": "markdown",
   "metadata": {},
   "source": [
    "## signup"
   ]
  },
  {
   "cell_type": "code",
   "execution_count": 178,
   "metadata": {
    "collapsed": true
   },
   "outputs": [],
   "source": [
    "q = requests.post(\"http://localhost:4500/auth/captcha\",json={\"type\":\"signup\"})"
   ]
  },
  {
   "cell_type": "code",
   "execution_count": 179,
   "metadata": {
    "collapsed": false
   },
   "outputs": [
    {
     "data": {
      "text/plain": [
       "{'message': {'captcha_id': '6ba896ad-276f-41b9-88c1-55012c6f440f',\n",
       "  'content': 'iVBORw0KGgoAAAANSUhEUgAAAIwAAAAoCAYAAAAsTRLGAAAFgElEQVR4nO1bTWhVRxT+jsZNkKppaUxFCUSbqCHRbLQxRQIuXLgxFgsuFCW4cGVKIRBEV3Uj0sSFGyEQBZVKySIVsnBXlJSCpVJrFXm8bmxiRRFqFpF4uph339yfuXPn/rz35r3cD4b3MnPmzJmZ755z5r4JMTPDByIif12OHABAKsIYd86JteKwKrDpd+8CRMClS5Gd2RCVMj5H9UGA2HhvbYlDL14AbW3VMyb3WNZDTZhyq2v/LHIUObFqhyZAbICSNE7VrX5Jnk8A/Ftb8piGuZxY2aO8oFGbQD8A+BoA/gF3fwb8B2AWoE6GPb4nGXJimWOVqeCOn5xvbaA/JkBFgLoAEIHoVxAhUG7elP1HRrI0O1vkyXtCmC7c78yMv5jRzvwpjjKL4OV8eIpc7GDd3JysW1w0Hd1+1HofKwmPK049WZdnp1KgcjQ+fgx0d8NTBwBnzwITE8H6lYB6DIXZEsZRSAA7qg1UkrloVXXZApuIZZzDGKM0NRoQQaqc0Hz1ReZDac0wWOLeXqCjA7h/v/L2pIFNodBDmLRMXlpy/bEDKKc1APDjHOZD1F+96oyfZvR4IAIePQIKBWBgQPI6CocOVd62pKgGqQJLlEZp1Hs+AsAhMSOLUOLf8DBdra3Ay5fi+/nzwLt3wOXLZn1NSGVzOMw8vCU5FQiSyfL+vVrmb5fcgufY9Fqelnx93r5Vn7D8ePJEtB85ImXHxvS2Dg7q5xE1T12xFWn5EchhsmBgU5O6fgvE0w0AW9zrO9hSSpIJX679zdNn3TqvDk/Yc+HBA/G5aZN8wi9e1Nupyl3cS9rXF2xfv17KqYrfXtuQBWmUSuOgry/ek6WUBXjS14DXUnZyMp5OUy8Ry0bDvrYjDTcyOSU9fJhexxIzToHF+xsnA20pikYGTp4M73vgQHjbq1fhbWvWRNt1+LC63ubktyYwZevmzfKJm5kxZbgo4+PqerAonse5OdwkR2T/flm3uBjuCebnzbyESubZs/r3MMwpDjY6whgpSHAD4vlzYNu2YJ/lZXX+I2RGABpXDhR2wtKdvExOZY4MEfDhg7qv6cnMNiTNVVOFpKTXZbZuVdevXu39+7sr7nG+B3iPrDg1CGAZ9E1JeK35+KY4fVp8xjliE4nEe8UhyqWdOSNd8/R0EpeoTyodzMwoZI/uLFei9HZwSDPO3r3B+qGh5GEpLPG9fbt+kuKqk6anJ93CXLig7j81Faw/d05PMPcuOV9bf5btUaclHRyZ3l7DiXFjk0Ybx3RKTSNgezswOwt0dobrMMk9wsJfIIcoTYk017qc/k7f48eBqSm1bNKwa+ntVg+S5DGJcxhmYPv2aLliEejq8l6sSjqeA/9muIv48jEYhI9A6MDnAV3Dw16d16+Hj3vwYHp7GwmR25fUdTl4+lQserHo1wts3AgsLADNzeL3nLJRmqcz1pPrvp/zJ4MVBN+3T74ljkpu465EI3qZihMm0gDFZrx5A7S0BOv9fcLaVfK6+zlRhIgTIt04cUJ6r0YhTPb3YTLAhg2uEKOALocJA4FBzosTX2x05zR+fWH6r12LHvPePTPb6gmRhKnWba/p6XjynrwlAnfulL4Q8Iu7Y5khNwIk9JNn1y6vzuFhYPduKa+C6sdL21CRCFKZI523jI5WYpQYhvBOZmYeVdimW4GxMa9cTw9zocDc39+Yx2sj7xFXqdHAtr1ST5mh6vxwzecWgThRxCiHoRAkN1FxHK41VKGKCPjWbJpO10JBvHsCgGPHLJlbhqhKflIJD1U11MPZOAOYOgBr/n0BsJhY1sXP7FGXhDFFzYjVwN6moQljCms9lqUwIU1DE8YUObEEcsJkjEYnVk6YGqGeiRVFmpwwNYSNxIoizP+NoWi2hCkG3wAAAABJRU5ErkJggg=='}}"
      ]
     },
     "execution_count": 179,
     "metadata": {},
     "output_type": "execute_result"
    }
   ],
   "source": [
    "q.json()"
   ]
  },
  {
   "cell_type": "code",
   "execution_count": 180,
   "metadata": {
    "collapsed": false
   },
   "outputs": [
    {
     "data": {
      "text/html": [
       "<img src=\"data:image/png;base64,iVBORw0KGgoAAAANSUhEUgAAAIwAAAAoCAYAAAAsTRLGAAAFgElEQVR4nO1bTWhVRxT+jsZNkKppaUxFCUSbqCHRbLQxRQIuXLgxFgsuFCW4cGVKIRBEV3Uj0sSFGyEQBZVKySIVsnBXlJSCpVJrFXm8bmxiRRFqFpF4uph339yfuXPn/rz35r3cD4b3MnPmzJmZ755z5r4JMTPDByIif12OHABAKsIYd86JteKwKrDpd+8CRMClS5Gd2RCVMj5H9UGA2HhvbYlDL14AbW3VMyb3WNZDTZhyq2v/LHIUObFqhyZAbICSNE7VrX5Jnk8A/Ftb8piGuZxY2aO8oFGbQD8A+BoA/gF3fwb8B2AWoE6GPb4nGXJimWOVqeCOn5xvbaA/JkBFgLoAEIHoVxAhUG7elP1HRrI0O1vkyXtCmC7c78yMv5jRzvwpjjKL4OV8eIpc7GDd3JysW1w0Hd1+1HofKwmPK049WZdnp1KgcjQ+fgx0d8NTBwBnzwITE8H6lYB6DIXZEsZRSAA7qg1UkrloVXXZApuIZZzDGKM0NRoQQaqc0Hz1ReZDac0wWOLeXqCjA7h/v/L2pIFNodBDmLRMXlpy/bEDKKc1APDjHOZD1F+96oyfZvR4IAIePQIKBWBgQPI6CocOVd62pKgGqQJLlEZp1Hs+AsAhMSOLUOLf8DBdra3Ay5fi+/nzwLt3wOXLZn1NSGVzOMw8vCU5FQiSyfL+vVrmb5fcgufY9Fqelnx93r5Vn7D8ePJEtB85ImXHxvS2Dg7q5xE1T12xFWn5EchhsmBgU5O6fgvE0w0AW9zrO9hSSpIJX679zdNn3TqvDk/Yc+HBA/G5aZN8wi9e1Nupyl3cS9rXF2xfv17KqYrfXtuQBWmUSuOgry/ek6WUBXjS14DXUnZyMp5OUy8Ry0bDvrYjDTcyOSU9fJhexxIzToHF+xsnA20pikYGTp4M73vgQHjbq1fhbWvWRNt1+LC63ubktyYwZevmzfKJm5kxZbgo4+PqerAonse5OdwkR2T/flm3uBjuCebnzbyESubZs/r3MMwpDjY6whgpSHAD4vlzYNu2YJ/lZXX+I2RGABpXDhR2wtKdvExOZY4MEfDhg7qv6cnMNiTNVVOFpKTXZbZuVdevXu39+7sr7nG+B3iPrDg1CGAZ9E1JeK35+KY4fVp8xjliE4nEe8UhyqWdOSNd8/R0EpeoTyodzMwoZI/uLFei9HZwSDPO3r3B+qGh5GEpLPG9fbt+kuKqk6anJ93CXLig7j81Faw/d05PMPcuOV9bf5btUaclHRyZ3l7DiXFjk0Ybx3RKTSNgezswOwt0dobrMMk9wsJfIIcoTYk017qc/k7f48eBqSm1bNKwa+ntVg+S5DGJcxhmYPv2aLliEejq8l6sSjqeA/9muIv48jEYhI9A6MDnAV3Dw16d16+Hj3vwYHp7GwmR25fUdTl4+lQserHo1wts3AgsLADNzeL3nLJRmqcz1pPrvp/zJ4MVBN+3T74ljkpu465EI3qZihMm0gDFZrx5A7S0BOv9fcLaVfK6+zlRhIgTIt04cUJ6r0YhTPb3YTLAhg2uEKOALocJA4FBzosTX2x05zR+fWH6r12LHvPePTPb6gmRhKnWba/p6XjynrwlAnfulL4Q8Iu7Y5khNwIk9JNn1y6vzuFhYPduKa+C6sdL21CRCFKZI523jI5WYpQYhvBOZmYeVdimW4GxMa9cTw9zocDc39+Yx2sj7xFXqdHAtr1ST5mh6vxwzecWgThRxCiHoRAkN1FxHK41VKGKCPjWbJpO10JBvHsCgGPHLJlbhqhKflIJD1U11MPZOAOYOgBr/n0BsJhY1sXP7FGXhDFFzYjVwN6moQljCms9lqUwIU1DE8YUObEEcsJkjEYnVk6YGqGeiRVFmpwwNYSNxIoizP+NoWi2hCkG3wAAAABJRU5ErkJggg==\">"
      ],
      "text/plain": [
       "<IPython.core.display.HTML object>"
      ]
     },
     "metadata": {},
     "output_type": "display_data"
    }
   ],
   "source": [
    "%%html\n",
    "<img src=\"data:image/png;base64,iVBORw0KGgoAAAANSUhEUgAAAIwAAAAoCAYAAAAsTRLGAAAFgElEQVR4nO1bTWhVRxT+jsZNkKppaUxFCUSbqCHRbLQxRQIuXLgxFgsuFCW4cGVKIRBEV3Uj0sSFGyEQBZVKySIVsnBXlJSCpVJrFXm8bmxiRRFqFpF4uph339yfuXPn/rz35r3cD4b3MnPmzJmZ755z5r4JMTPDByIif12OHABAKsIYd86JteKwKrDpd+8CRMClS5Gd2RCVMj5H9UGA2HhvbYlDL14AbW3VMyb3WNZDTZhyq2v/LHIUObFqhyZAbICSNE7VrX5Jnk8A/Ftb8piGuZxY2aO8oFGbQD8A+BoA/gF3fwb8B2AWoE6GPb4nGXJimWOVqeCOn5xvbaA/JkBFgLoAEIHoVxAhUG7elP1HRrI0O1vkyXtCmC7c78yMv5jRzvwpjjKL4OV8eIpc7GDd3JysW1w0Hd1+1HofKwmPK049WZdnp1KgcjQ+fgx0d8NTBwBnzwITE8H6lYB6DIXZEsZRSAA7qg1UkrloVXXZApuIZZzDGKM0NRoQQaqc0Hz1ReZDac0wWOLeXqCjA7h/v/L2pIFNodBDmLRMXlpy/bEDKKc1APDjHOZD1F+96oyfZvR4IAIePQIKBWBgQPI6CocOVd62pKgGqQJLlEZp1Hs+AsAhMSOLUOLf8DBdra3Ay5fi+/nzwLt3wOXLZn1NSGVzOMw8vCU5FQiSyfL+vVrmb5fcgufY9Fqelnx93r5Vn7D8ePJEtB85ImXHxvS2Dg7q5xE1T12xFWn5EchhsmBgU5O6fgvE0w0AW9zrO9hSSpIJX679zdNn3TqvDk/Yc+HBA/G5aZN8wi9e1Nupyl3cS9rXF2xfv17KqYrfXtuQBWmUSuOgry/ek6WUBXjS14DXUnZyMp5OUy8Ry0bDvrYjDTcyOSU9fJhexxIzToHF+xsnA20pikYGTp4M73vgQHjbq1fhbWvWRNt1+LC63ubktyYwZevmzfKJm5kxZbgo4+PqerAonse5OdwkR2T/flm3uBjuCebnzbyESubZs/r3MMwpDjY6whgpSHAD4vlzYNu2YJ/lZXX+I2RGABpXDhR2wtKdvExOZY4MEfDhg7qv6cnMNiTNVVOFpKTXZbZuVdevXu39+7sr7nG+B3iPrDg1CGAZ9E1JeK35+KY4fVp8xjliE4nEe8UhyqWdOSNd8/R0EpeoTyodzMwoZI/uLFei9HZwSDPO3r3B+qGh5GEpLPG9fbt+kuKqk6anJ93CXLig7j81Faw/d05PMPcuOV9bf5btUaclHRyZ3l7DiXFjk0Ybx3RKTSNgezswOwt0dobrMMk9wsJfIIcoTYk017qc/k7f48eBqSm1bNKwa+ntVg+S5DGJcxhmYPv2aLliEejq8l6sSjqeA/9muIv48jEYhI9A6MDnAV3Dw16d16+Hj3vwYHp7GwmR25fUdTl4+lQserHo1wts3AgsLADNzeL3nLJRmqcz1pPrvp/zJ4MVBN+3T74ljkpu465EI3qZihMm0gDFZrx5A7S0BOv9fcLaVfK6+zlRhIgTIt04cUJ6r0YhTPb3YTLAhg2uEKOALocJA4FBzosTX2x05zR+fWH6r12LHvPePTPb6gmRhKnWba/p6XjynrwlAnfulL4Q8Iu7Y5khNwIk9JNn1y6vzuFhYPduKa+C6sdL21CRCFKZI523jI5WYpQYhvBOZmYeVdimW4GxMa9cTw9zocDc39+Yx2sj7xFXqdHAtr1ST5mh6vxwzecWgThRxCiHoRAkN1FxHK41VKGKCPjWbJpO10JBvHsCgGPHLJlbhqhKflIJD1U11MPZOAOYOgBr/n0BsJhY1sXP7FGXhDFFzYjVwN6moQljCms9lqUwIU1DE8YUObEEcsJkjEYnVk6YGqGeiRVFmpwwNYSNxIoizP+NoWi2hCkG3wAAAABJRU5ErkJggg==\">"
   ]
  },
  {
   "cell_type": "code",
   "execution_count": 187,
   "metadata": {
    "collapsed": true
   },
   "outputs": [],
   "source": [
    "q = requests.post(\"http://localhost:4500/auth/signup\",\n",
    "                  json={\"username\":\"hsz\",\n",
    "                        \"password\":\"hsz\",\n",
    "                        \"main_email\":\"hsz1273327@gmail.com\",\n",
    "                        \"captcha_id\":'6ba896ad-276f-41b9-88c1-55012c6f440f',\n",
    "                        \"captcha_code\":\"Zjk405\"\n",
    "                       }\n",
    "                 )"
   ]
  },
  {
   "cell_type": "code",
   "execution_count": 188,
   "metadata": {
    "collapsed": false
   },
   "outputs": [
    {
     "data": {
      "text/plain": [
       "{'result': True}"
      ]
     },
     "execution_count": 188,
     "metadata": {},
     "output_type": "execute_result"
    }
   ],
   "source": [
    "q.json()"
   ]
  },
  {
   "cell_type": "code",
   "execution_count": 189,
   "metadata": {
    "collapsed": true
   },
   "outputs": [],
   "source": [
    "q = requests.post(\"http://localhost:4500/auth/signup/ajax/username\",\n",
    "                  json={\"username\":\"hsz\"}\n",
    "                 )"
   ]
  },
  {
   "cell_type": "code",
   "execution_count": 190,
   "metadata": {
    "collapsed": false
   },
   "outputs": [
    {
     "data": {
      "text/plain": [
       "{'message': '用户已存在', 'result': False}"
      ]
     },
     "execution_count": 190,
     "metadata": {},
     "output_type": "execute_result"
    }
   ],
   "source": [
    "q.json()"
   ]
  },
  {
   "cell_type": "code",
   "execution_count": 195,
   "metadata": {
    "collapsed": true
   },
   "outputs": [],
   "source": [
    "q = requests.post(\"http://localhost:4500/auth/signup/ajax/main_email\",\n",
    "                  json={\"main_email\":\"hsz@123.com\"}\n",
    "                 )"
   ]
  },
  {
   "cell_type": "code",
   "execution_count": 196,
   "metadata": {
    "collapsed": false
   },
   "outputs": [
    {
     "data": {
      "text/plain": [
       "{'message': 'email可用', 'result': True}"
      ]
     },
     "execution_count": 196,
     "metadata": {},
     "output_type": "execute_result"
    }
   ],
   "source": [
    "q.json()"
   ]
  },
  {
   "cell_type": "markdown",
   "metadata": {},
   "source": [
    "# auth\n",
    "\n",
    "## /"
   ]
  },
  {
   "cell_type": "code",
   "execution_count": 197,
   "metadata": {
    "collapsed": false
   },
   "outputs": [],
   "source": [
    "q = requests.post(\"http://localhost:4500/auth\",json={\"username\":\"admin\",\"password\":\"admin\"})"
   ]
  },
  {
   "cell_type": "code",
   "execution_count": 198,
   "metadata": {
    "collapsed": false,
    "scrolled": true
   },
   "outputs": [
    {
     "data": {
      "text/plain": [
       "{'message': 'eyJfaWQiOiI5ODgxODdjMi0wY2ExLTQ1ZTMtYWZiNy1jZDMyYTYwYTVkZjYiLCJyb2xlcyI6WyJhdXRoLWNlbnRlciIsIm1zZ19yZXZlcnNlX2luZGV4aW5nIl19.DHRX8w.NASYtsRoP3eUdyA_Aijir73A6oA'}"
      ]
     },
     "execution_count": 198,
     "metadata": {},
     "output_type": "execute_result"
    }
   ],
   "source": [
    "q.json()"
   ]
  },
  {
   "cell_type": "code",
   "execution_count": 199,
   "metadata": {
    "collapsed": true
   },
   "outputs": [],
   "source": [
    "q = requests.post(\"http://localhost:4500/auth\",json={\"username\":\"hsz\",\"password\":\"hsz\"})"
   ]
  },
  {
   "cell_type": "code",
   "execution_count": 200,
   "metadata": {
    "collapsed": false
   },
   "outputs": [
    {
     "data": {
      "text/plain": [
       "{'message': 'eyJfaWQiOiJiZjljMjc3My04NzE2LTQzMTQtOTQxYy1lZmY5ZTJjMzZkYzAiLCJyb2xlcyI6W119.DHRYDQ.Y6B1LGmo950DP3EZG1ricZO7yPM'}"
      ]
     },
     "execution_count": 200,
     "metadata": {},
     "output_type": "execute_result"
    }
   ],
   "source": [
    "q.json()"
   ]
  },
  {
   "cell_type": "markdown",
   "metadata": {
    "collapsed": true
   },
   "source": [
    "# api-role"
   ]
  },
  {
   "cell_type": "markdown",
   "metadata": {},
   "source": [
    "## rolelist"
   ]
  },
  {
   "cell_type": "markdown",
   "metadata": {},
   "source": [
    "admin实际token\n",
    "\n",
    "eyJfaWQiOiI5ODgxODdjMi0wY2ExLTQ1ZTMtYWZiNy1jZDMyYTYwYTVkZjYiLCJyb2xlcyI6WyJhdXRoLWNlbnRlciIsIm1zZ19yZXZlcnNlX2luZGV4aW5nIl19.DHRX8w.NASYtsRoP3eUdyA_Aijir73A6oA"
   ]
  },
  {
   "cell_type": "markdown",
   "metadata": {},
   "source": [
    "hsz实际token\n",
    "\n",
    "eyJfaWQiOiJiZjljMjc3My04NzE2LTQzMTQtOTQxYy1lZmY5ZTJjMzZkYzAiLCJyb2xlcyI6W119.DHRYDQ.Y6B1LGmo950DP3EZG1ricZO7yPM"
   ]
  },
  {
   "cell_type": "markdown",
   "metadata": {},
   "source": [
    "### get with service_name"
   ]
  },
  {
   "cell_type": "code",
   "execution_count": 201,
   "metadata": {
    "collapsed": true
   },
   "outputs": [],
   "source": [
    "q = requests.get(\"http://localhost:4500/api/role\",params={\"service_name\":\"auth-center\"},\n",
    "                 headers={\n",
    "                     \"Authorization\":\"eyJfaWQiOiI5ODgxODdjMi0wY2ExLTQ1ZTMtYWZiNy1jZDMyYTYwYTVkZjYiLCJyb2xlcyI6WyJhdXRoLWNlbnRlciIsIm1zZ19yZXZlcnNlX2luZGV4aW5nIl19.DHRX8w.NASYtsRoP3eUdyA_Aijir73A6oA\"})"
   ]
  },
  {
   "cell_type": "code",
   "execution_count": 202,
   "metadata": {
    "collapsed": false
   },
   "outputs": [
    {
     "data": {
      "text/plain": [
       "{'message': True}"
      ]
     },
     "execution_count": 202,
     "metadata": {},
     "output_type": "execute_result"
    }
   ],
   "source": [
    "q.json()"
   ]
  },
  {
   "cell_type": "markdown",
   "metadata": {},
   "source": [
    "### get "
   ]
  },
  {
   "cell_type": "code",
   "execution_count": 203,
   "metadata": {
    "collapsed": true
   },
   "outputs": [],
   "source": [
    "q = requests.get(\"http://localhost:4500/api/role\",\n",
    "                 headers={\n",
    "                     \"Authorization\":\"eyJfaWQiOiI5ODgxODdjMi0wY2ExLTQ1ZTMtYWZiNy1jZDMyYTYwYTVkZjYiLCJyb2xlcyI6WyJhdXRoLWNlbnRlciIsIm1zZ19yZXZlcnNlX2luZGV4aW5nIl19.DHRX8w.NASYtsRoP3eUdyA_Aijir73A6oA\"})"
   ]
  },
  {
   "cell_type": "code",
   "execution_count": 204,
   "metadata": {
    "collapsed": false
   },
   "outputs": [
    {
     "data": {
      "text/plain": [
       "{'message': {'rolelist': [{'servicename': 'auth-center'},\n",
       "   {'servicename': 'msg_reverse_indexing'}]}}"
      ]
     },
     "execution_count": 204,
     "metadata": {},
     "output_type": "execute_result"
    }
   ],
   "source": [
    "q.json()"
   ]
  },
  {
   "cell_type": "markdown",
   "metadata": {},
   "source": [
    "### post\n",
    "\n",
    "字段错误"
   ]
  },
  {
   "cell_type": "code",
   "execution_count": 205,
   "metadata": {
    "collapsed": true
   },
   "outputs": [],
   "source": [
    "q = requests.post(\"http://localhost:4500/api/role\",\n",
    "                  json={\"roles\":[{\"name\":\"abc\"}]},\n",
    "                 headers={\n",
    "                     \"Authorization\":\"eyJfaWQiOiI5ODgxODdjMi0wY2ExLTQ1ZTMtYWZiNy1jZDMyYTYwYTVkZjYiLCJyb2xlcyI6WyJhdXRoLWNlbnRlciIsIm1zZ19yZXZlcnNlX2luZGV4aW5nIl19.DHRX8w.NASYtsRoP3eUdyA_Aijir73A6oA\"})"
   ]
  },
  {
   "cell_type": "code",
   "execution_count": 206,
   "metadata": {
    "collapsed": false
   },
   "outputs": [
    {
     "data": {
      "text/plain": [
       "{'error': '\\'\"name\" is not a recognized field.\\'', 'message': '数据库错误'}"
      ]
     },
     "execution_count": 206,
     "metadata": {},
     "output_type": "execute_result"
    }
   ],
   "source": [
    "q.json()"
   ]
  },
  {
   "cell_type": "markdown",
   "metadata": {},
   "source": [
    "正确"
   ]
  },
  {
   "cell_type": "code",
   "execution_count": 207,
   "metadata": {
    "collapsed": true
   },
   "outputs": [],
   "source": [
    "q = requests.post(\"http://localhost:4500/api/role\",\n",
    "                  json={\"roles\":[{\"service_name\":\"abc\"}]},\n",
    "                 headers={\n",
    "                     \"Authorization\":\"eyJfaWQiOiI5ODgxODdjMi0wY2ExLTQ1ZTMtYWZiNy1jZDMyYTYwYTVkZjYiLCJyb2xlcyI6WyJhdXRoLWNlbnRlciIsIm1zZ19yZXZlcnNlX2luZGV4aW5nIl19.DHRX8w.NASYtsRoP3eUdyA_Aijir73A6oA\"})"
   ]
  },
  {
   "cell_type": "code",
   "execution_count": 208,
   "metadata": {
    "collapsed": false
   },
   "outputs": [
    {
     "data": {
      "text/plain": [
       "{'result': True}"
      ]
     },
     "execution_count": 208,
     "metadata": {},
     "output_type": "execute_result"
    }
   ],
   "source": [
    "q.json()"
   ]
  },
  {
   "cell_type": "code",
   "execution_count": 209,
   "metadata": {
    "collapsed": true
   },
   "outputs": [],
   "source": [
    "q = requests.get(\"http://localhost:4500/api/role\",\n",
    "                 headers={\n",
    "                     \"Authorization\":\"eyJfaWQiOiI5ODgxODdjMi0wY2ExLTQ1ZTMtYWZiNy1jZDMyYTYwYTVkZjYiLCJyb2xlcyI6WyJhdXRoLWNlbnRlciIsIm1zZ19yZXZlcnNlX2luZGV4aW5nIl19.DHRX8w.NASYtsRoP3eUdyA_Aijir73A6oA\"})"
   ]
  },
  {
   "cell_type": "code",
   "execution_count": 210,
   "metadata": {
    "collapsed": false
   },
   "outputs": [
    {
     "data": {
      "text/plain": [
       "{'message': {'rolelist': [{'servicename': 'auth-center'},\n",
       "   {'servicename': 'msg_reverse_indexing'},\n",
       "   {'servicename': 'abc'}]}}"
      ]
     },
     "execution_count": 210,
     "metadata": {},
     "output_type": "execute_result"
    }
   ],
   "source": [
    "q.json()"
   ]
  },
  {
   "cell_type": "markdown",
   "metadata": {},
   "source": [
    "### delete"
   ]
  },
  {
   "cell_type": "code",
   "execution_count": 211,
   "metadata": {
    "collapsed": true
   },
   "outputs": [],
   "source": [
    "q = requests.delete(\"http://localhost:4500/api/role\",\n",
    "                  json={\"service_name\":\"abc\"},\n",
    "                 headers={\n",
    "                     \"Authorization\":\"eyJfaWQiOiI5ODgxODdjMi0wY2ExLTQ1ZTMtYWZiNy1jZDMyYTYwYTVkZjYiLCJyb2xlcyI6WyJhdXRoLWNlbnRlciIsIm1zZ19yZXZlcnNlX2luZGV4aW5nIl19.DHRX8w.NASYtsRoP3eUdyA_Aijir73A6oA\"})"
   ]
  },
  {
   "cell_type": "code",
   "execution_count": 212,
   "metadata": {
    "collapsed": false
   },
   "outputs": [
    {
     "data": {
      "text/plain": [
       "{'result': True}"
      ]
     },
     "execution_count": 212,
     "metadata": {},
     "output_type": "execute_result"
    }
   ],
   "source": [
    "q.json()"
   ]
  },
  {
   "cell_type": "code",
   "execution_count": 213,
   "metadata": {
    "collapsed": true
   },
   "outputs": [],
   "source": [
    "q = requests.get(\"http://localhost:4500/api/role\",\n",
    "                 headers={\n",
    "                     \"Authorization\":\"eyJfaWQiOiI5ODgxODdjMi0wY2ExLTQ1ZTMtYWZiNy1jZDMyYTYwYTVkZjYiLCJyb2xlcyI6WyJhdXRoLWNlbnRlciIsIm1zZ19yZXZlcnNlX2luZGV4aW5nIl19.DHRX8w.NASYtsRoP3eUdyA_Aijir73A6oA\"})"
   ]
  },
  {
   "cell_type": "code",
   "execution_count": 214,
   "metadata": {
    "collapsed": false
   },
   "outputs": [
    {
     "data": {
      "text/plain": [
       "{'message': {'rolelist': [{'servicename': 'auth-center'},\n",
       "   {'servicename': 'msg_reverse_indexing'}]}}"
      ]
     },
     "execution_count": 214,
     "metadata": {},
     "output_type": "execute_result"
    }
   ],
   "source": [
    "q.json()"
   ]
  },
  {
   "cell_type": "markdown",
   "metadata": {},
   "source": [
    "# api-user\n",
    "\n",
    "### get"
   ]
  },
  {
   "cell_type": "code",
   "execution_count": 215,
   "metadata": {
    "collapsed": true
   },
   "outputs": [],
   "source": [
    "q = requests.get(\"http://localhost:4500/api/user\",\n",
    "                 headers={\n",
    "                     \"Authorization\":\"eyJfaWQiOiI5ODgxODdjMi0wY2ExLTQ1ZTMtYWZiNy1jZDMyYTYwYTVkZjYiLCJyb2xlcyI6WyJhdXRoLWNlbnRlciIsIm1zZ19yZXZlcnNlX2luZGV4aW5nIl19.DHRX8w.NASYtsRoP3eUdyA_Aijir73A6oA\"})"
   ]
  },
  {
   "cell_type": "code",
   "execution_count": 216,
   "metadata": {
    "collapsed": false
   },
   "outputs": [
    {
     "data": {
      "text/plain": [
       "{'userlist': [{'_id': '988187c2-0ca1-45e3-afb7-cd32a60a5df6',\n",
       "   'main_email': 'huangsizhe@rongshutong.com',\n",
       "   'roles': ['auth-center', 'msg_reverse_indexing'],\n",
       "   'username': 'admin'},\n",
       "  {'_id': 'bf9c2773-8716-4314-941c-eff9e2c36dc0',\n",
       "   'main_email': 'hsz1273327@gmail.com',\n",
       "   'roles': [],\n",
       "   'username': 'hsz'}]}"
      ]
     },
     "execution_count": 216,
     "metadata": {},
     "output_type": "execute_result"
    }
   ],
   "source": [
    "q.json()"
   ]
  },
  {
   "cell_type": "markdown",
   "metadata": {},
   "source": [
    "### post"
   ]
  },
  {
   "cell_type": "code",
   "execution_count": 217,
   "metadata": {
    "collapsed": true
   },
   "outputs": [],
   "source": [
    "q = requests.post(\"http://localhost:4500/api/user\",\n",
    "                  json={'users':[\n",
    "                      {\"username\":\"a\",\n",
    "                       \"password\":\"a\",\n",
    "                        \"main_email\":\"a@gmail.com\"}\n",
    "                  ]},\n",
    "                 headers={\n",
    "                     \"Authorization\":\"eyJfaWQiOiI5ODgxODdjMi0wY2ExLTQ1ZTMtYWZiNy1jZDMyYTYwYTVkZjYiLCJyb2xlcyI6WyJhdXRoLWNlbnRlciIsIm1zZ19yZXZlcnNlX2luZGV4aW5nIl19.DHRX8w.NASYtsRoP3eUdyA_Aijir73A6oA\"})"
   ]
  },
  {
   "cell_type": "code",
   "execution_count": 218,
   "metadata": {
    "collapsed": false,
    "scrolled": true
   },
   "outputs": [
    {
     "data": {
      "text/plain": [
       "{'result': True}"
      ]
     },
     "execution_count": 218,
     "metadata": {},
     "output_type": "execute_result"
    }
   ],
   "source": [
    "q.json()"
   ]
  },
  {
   "cell_type": "code",
   "execution_count": 219,
   "metadata": {
    "collapsed": true
   },
   "outputs": [],
   "source": [
    "q = requests.get(\"http://localhost:4500/api/user\",\n",
    "                 headers={\n",
    "                     \"Authorization\":\"eyJfaWQiOiI5ODgxODdjMi0wY2ExLTQ1ZTMtYWZiNy1jZDMyYTYwYTVkZjYiLCJyb2xlcyI6WyJhdXRoLWNlbnRlciIsIm1zZ19yZXZlcnNlX2luZGV4aW5nIl19.DHRX8w.NASYtsRoP3eUdyA_Aijir73A6oA\"})"
   ]
  },
  {
   "cell_type": "code",
   "execution_count": 220,
   "metadata": {
    "collapsed": false
   },
   "outputs": [
    {
     "data": {
      "text/plain": [
       "{'userlist': [{'_id': '988187c2-0ca1-45e3-afb7-cd32a60a5df6',\n",
       "   'main_email': 'huangsizhe@rongshutong.com',\n",
       "   'roles': ['auth-center', 'msg_reverse_indexing'],\n",
       "   'username': 'admin'},\n",
       "  {'_id': 'bf9c2773-8716-4314-941c-eff9e2c36dc0',\n",
       "   'main_email': 'hsz1273327@gmail.com',\n",
       "   'roles': [],\n",
       "   'username': 'hsz'},\n",
       "  {'_id': 'fb22958a-8a01-477c-8410-be6bdd3193bd',\n",
       "   'main_email': 'a@gmail.com',\n",
       "   'roles': [],\n",
       "   'username': 'a'}]}"
      ]
     },
     "execution_count": 220,
     "metadata": {},
     "output_type": "execute_result"
    }
   ],
   "source": [
    "q.json()"
   ]
  },
  {
   "cell_type": "markdown",
   "metadata": {},
   "source": [
    "### delete"
   ]
  },
  {
   "cell_type": "code",
   "execution_count": 223,
   "metadata": {
    "collapsed": true
   },
   "outputs": [],
   "source": [
    "q = requests.delete(\"http://localhost:4500/api/user\",\n",
    "                  json={'users':[\"fb22958a-8a01-477c-8410-be6bdd3193bd\"]},\n",
    "                 headers={\n",
    "                     \"Authorization\":\"eyJfaWQiOiI5ODgxODdjMi0wY2ExLTQ1ZTMtYWZiNy1jZDMyYTYwYTVkZjYiLCJyb2xlcyI6WyJhdXRoLWNlbnRlciIsIm1zZ19yZXZlcnNlX2luZGV4aW5nIl19.DHRX8w.NASYtsRoP3eUdyA_Aijir73A6oA\"})"
   ]
  },
  {
   "cell_type": "code",
   "execution_count": 224,
   "metadata": {
    "collapsed": false,
    "scrolled": true
   },
   "outputs": [
    {
     "data": {
      "text/plain": [
       "{'result': True}"
      ]
     },
     "execution_count": 224,
     "metadata": {},
     "output_type": "execute_result"
    }
   ],
   "source": [
    "q.json()"
   ]
  },
  {
   "cell_type": "markdown",
   "metadata": {},
   "source": [
    "## api-user_role\n",
    "\n",
    "### get\n",
    "\n",
    "admin查看hsz"
   ]
  },
  {
   "cell_type": "code",
   "execution_count": 225,
   "metadata": {
    "collapsed": true
   },
   "outputs": [],
   "source": [
    "q = requests.get(\"http://localhost:4500/api/user/role/bf9c2773-8716-4314-941c-eff9e2c36dc0\",\n",
    "                 headers={\n",
    "                     \"Authorization\":\"eyJfaWQiOiI5ODgxODdjMi0wY2ExLTQ1ZTMtYWZiNy1jZDMyYTYwYTVkZjYiLCJyb2xlcyI6WyJhdXRoLWNlbnRlciIsIm1zZ19yZXZlcnNlX2luZGV4aW5nIl19.DHRX8w.NASYtsRoP3eUdyA_Aijir73A6oA\"})"
   ]
  },
  {
   "cell_type": "code",
   "execution_count": 226,
   "metadata": {
    "collapsed": false,
    "scrolled": true
   },
   "outputs": [
    {
     "data": {
      "text/plain": [
       "{'roles': [], 'username': 'hsz'}"
      ]
     },
     "execution_count": 226,
     "metadata": {},
     "output_type": "execute_result"
    }
   ],
   "source": [
    "q.json()"
   ]
  },
  {
   "cell_type": "markdown",
   "metadata": {},
   "source": [
    "admin查看admin"
   ]
  },
  {
   "cell_type": "code",
   "execution_count": 227,
   "metadata": {
    "collapsed": true
   },
   "outputs": [],
   "source": [
    "q = requests.get(\"http://localhost:4500/api/user/role/988187c2-0ca1-45e3-afb7-cd32a60a5df6\",\n",
    "                 headers={\n",
    "                     \"Authorization\":\"eyJfaWQiOiI5ODgxODdjMi0wY2ExLTQ1ZTMtYWZiNy1jZDMyYTYwYTVkZjYiLCJyb2xlcyI6WyJhdXRoLWNlbnRlciIsIm1zZ19yZXZlcnNlX2luZGV4aW5nIl19.DHRX8w.NASYtsRoP3eUdyA_Aijir73A6oA\"})"
   ]
  },
  {
   "cell_type": "code",
   "execution_count": 228,
   "metadata": {
    "collapsed": false
   },
   "outputs": [
    {
     "data": {
      "text/plain": [
       "{'roles': ['auth-center', 'msg_reverse_indexing'], 'username': 'admin'}"
      ]
     },
     "execution_count": 228,
     "metadata": {},
     "output_type": "execute_result"
    }
   ],
   "source": [
    "q.json()"
   ]
  },
  {
   "cell_type": "markdown",
   "metadata": {},
   "source": [
    "hsz查看hsz"
   ]
  },
  {
   "cell_type": "code",
   "execution_count": 229,
   "metadata": {
    "collapsed": true
   },
   "outputs": [],
   "source": [
    "q = requests.get(\"http://localhost:4500/api/user/role/bf9c2773-8716-4314-941c-eff9e2c36dc0\",\n",
    "                 headers={\n",
    "                     \"Authorization\":\"eyJfaWQiOiJiZjljMjc3My04NzE2LTQzMTQtOTQxYy1lZmY5ZTJjMzZkYzAiLCJyb2xlcyI6W119.DHRYDQ.Y6B1LGmo950DP3EZG1ricZO7yPM\"})"
   ]
  },
  {
   "cell_type": "code",
   "execution_count": 230,
   "metadata": {
    "collapsed": false
   },
   "outputs": [
    {
     "data": {
      "text/plain": [
       "{'roles': [], 'username': 'hsz'}"
      ]
     },
     "execution_count": 230,
     "metadata": {},
     "output_type": "execute_result"
    }
   ],
   "source": [
    "q.json()"
   ]
  },
  {
   "cell_type": "markdown",
   "metadata": {},
   "source": [
    "hsz查看admin"
   ]
  },
  {
   "cell_type": "code",
   "execution_count": 231,
   "metadata": {
    "collapsed": true
   },
   "outputs": [],
   "source": [
    "q = requests.get(\"http://localhost:4500/api/user/role/988187c2-0ca1-45e3-afb7-cd32a60a5df6\",\n",
    "                 headers={\n",
    "                     \"Authorization\":\"eyJfaWQiOiJiZjljMjc3My04NzE2LTQzMTQtOTQxYy1lZmY5ZTJjMzZkYzAiLCJyb2xlcyI6W119.DHRYDQ.Y6B1LGmo950DP3EZG1ricZO7yPM\"})"
   ]
  },
  {
   "cell_type": "code",
   "execution_count": 232,
   "metadata": {
    "collapsed": false
   },
   "outputs": [
    {
     "data": {
      "text/plain": [
       "401"
      ]
     },
     "execution_count": 232,
     "metadata": {},
     "output_type": "execute_result"
    }
   ],
   "source": [
    "q.status_code"
   ]
  },
  {
   "cell_type": "code",
   "execution_count": 233,
   "metadata": {
    "collapsed": false
   },
   "outputs": [
    {
     "data": {
      "text/plain": [
       "{'message': '没有权限查看'}"
      ]
     },
     "execution_count": 233,
     "metadata": {},
     "output_type": "execute_result"
    }
   ],
   "source": [
    "q.json()"
   ]
  },
  {
   "cell_type": "markdown",
   "metadata": {},
   "source": [
    "### post\n",
    "\n",
    "hsz为hsz添加权限"
   ]
  },
  {
   "cell_type": "code",
   "execution_count": 234,
   "metadata": {
    "collapsed": true
   },
   "outputs": [],
   "source": [
    "q = requests.post(\"http://localhost:4500/api/user/role/bf9c2773-8716-4314-941c-eff9e2c36dc0\",\n",
    "                  json={\"service_name\":\"msg_reverse_indexing\"},\n",
    "                 headers={\n",
    "                     \"Authorization\":\"eyJfaWQiOiJiZjljMjc3My04NzE2LTQzMTQtOTQxYy1lZmY5ZTJjMzZkYzAiLCJyb2xlcyI6W119.DHRYDQ.Y6B1LGmo950DP3EZG1ricZO7yPM\"})"
   ]
  },
  {
   "cell_type": "code",
   "execution_count": 235,
   "metadata": {
    "collapsed": false,
    "scrolled": true
   },
   "outputs": [
    {
     "data": {
      "text/plain": [
       "{'message': '没有权限添加权限'}"
      ]
     },
     "execution_count": 235,
     "metadata": {},
     "output_type": "execute_result"
    }
   ],
   "source": [
    "q.json()"
   ]
  },
  {
   "cell_type": "markdown",
   "metadata": {},
   "source": [
    "admin为hsz添加权限"
   ]
  },
  {
   "cell_type": "code",
   "execution_count": 236,
   "metadata": {
    "collapsed": true
   },
   "outputs": [],
   "source": [
    "q = requests.post(\"http://localhost:4500/api/user/role/bf9c2773-8716-4314-941c-eff9e2c36dc0\",\n",
    "                 json={\"service_name\":\"msg_reverse_indexing\"},\n",
    "                  headers={\n",
    "                     \"Authorization\":\"eyJfaWQiOiI5ODgxODdjMi0wY2ExLTQ1ZTMtYWZiNy1jZDMyYTYwYTVkZjYiLCJyb2xlcyI6WyJhdXRoLWNlbnRlciIsIm1zZ19yZXZlcnNlX2luZGV4aW5nIl19.DHRX8w.NASYtsRoP3eUdyA_Aijir73A6oA\"})"
   ]
  },
  {
   "cell_type": "code",
   "execution_count": 237,
   "metadata": {
    "collapsed": false
   },
   "outputs": [
    {
     "data": {
      "text/plain": [
       "{'result': True}"
      ]
     },
     "execution_count": 237,
     "metadata": {},
     "output_type": "execute_result"
    }
   ],
   "source": [
    "q.json()"
   ]
  },
  {
   "cell_type": "markdown",
   "metadata": {},
   "source": [
    "### delete\n",
    "\n",
    "hsz删除hsz的权限"
   ]
  },
  {
   "cell_type": "code",
   "execution_count": 238,
   "metadata": {
    "collapsed": true
   },
   "outputs": [],
   "source": [
    "q = requests.delete(\"http://localhost:4500/api/user/role/bf9c2773-8716-4314-941c-eff9e2c36dc0\",\n",
    "                  json={\"service_name\":\"msg_reverse_indexing\"},\n",
    "                 headers={\n",
    "                     \"Authorization\":\"eyJfaWQiOiJiZjljMjc3My04NzE2LTQzMTQtOTQxYy1lZmY5ZTJjMzZkYzAiLCJyb2xlcyI6W119.DHRYDQ.Y6B1LGmo950DP3EZG1ricZO7yPM\"})"
   ]
  },
  {
   "cell_type": "code",
   "execution_count": 239,
   "metadata": {
    "collapsed": false
   },
   "outputs": [
    {
     "data": {
      "text/plain": [
       "{'message': '没有权限删除权限'}"
      ]
     },
     "execution_count": 239,
     "metadata": {},
     "output_type": "execute_result"
    }
   ],
   "source": [
    "q.json()"
   ]
  },
  {
   "cell_type": "markdown",
   "metadata": {},
   "source": [
    "admin删除hsz权限"
   ]
  },
  {
   "cell_type": "code",
   "execution_count": 240,
   "metadata": {
    "collapsed": true
   },
   "outputs": [],
   "source": [
    "q = requests.delete(\"http://localhost:4500/api/user/role/bf9c2773-8716-4314-941c-eff9e2c36dc0\",\n",
    "                 json={\"service_name\":\"msg_reverse_indexing\"},\n",
    "                  headers={\n",
    "                     \"Authorization\":\"eyJfaWQiOiI5ODgxODdjMi0wY2ExLTQ1ZTMtYWZiNy1jZDMyYTYwYTVkZjYiLCJyb2xlcyI6WyJhdXRoLWNlbnRlciIsIm1zZ19yZXZlcnNlX2luZGV4aW5nIl19.DHRX8w.NASYtsRoP3eUdyA_Aijir73A6oA\"})"
   ]
  },
  {
   "cell_type": "code",
   "execution_count": 241,
   "metadata": {
    "collapsed": false
   },
   "outputs": [
    {
     "data": {
      "text/plain": [
       "{'result': True}"
      ]
     },
     "execution_count": 241,
     "metadata": {},
     "output_type": "execute_result"
    }
   ],
   "source": [
    "q.json()"
   ]
  },
  {
   "cell_type": "markdown",
   "metadata": {},
   "source": [
    "## api-user/main_email\n",
    "\n",
    "### get"
   ]
  },
  {
   "cell_type": "code",
   "execution_count": null,
   "metadata": {
    "collapsed": true
   },
   "outputs": [],
   "source": [
    "q = requests.get(\"http://localhost:4500/api/user/role/61179587-d2a1-43f3-8626-63c469c24e8b\",\n",
    "                 headers={\n",
    "                     \"Authorization\":\"eyJfaWQiOiJmODMwZTg3ZS0wMGRiLTQ2NTYtYmM3MS00OTE4MjNkNzlkZWEiLCJyb2xlcyI6WyJhdXRoLWNlbnRlciIsIm1zZ19yZXZlcnNlX2luZGV4aW5nIl19.DHQuJA.oJzNr7ZZR81lfrvHNtxYR4UaFH4\"})"
   ]
  }
 ],
 "metadata": {
  "kernelspec": {
   "display_name": "Python 3",
   "language": "python",
   "name": "python3"
  },
  "language_info": {
   "codemirror_mode": {
    "name": "ipython",
    "version": 3
   },
   "file_extension": ".py",
   "mimetype": "text/x-python",
   "name": "python",
   "nbconvert_exporter": "python",
   "pygments_lexer": "ipython3",
   "version": "3.6.0"
  }
 },
 "nbformat": 4,
 "nbformat_minor": 2
}
